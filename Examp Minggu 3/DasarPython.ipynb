{
 "cells": [
  {
   "cell_type": "code",
   "execution_count": 1,
   "metadata": {},
   "outputs": [],
   "source": [
    "import numpy as np\n",
    "import pandas as pd"
   ]
  },
  {
   "cell_type": "code",
   "execution_count": 11,
   "metadata": {},
   "outputs": [
    {
     "name": "stdout",
     "output_type": "stream",
     "text": [
      "A. DASAR-DASAR PYTHON\n",
      "1. Buat fungsi bernama faktorial(n) yang menerima sebuahbilangan bulat positif n dan mengembalikan nilai faktorial dari n. \n",
      "Contoh: faktorial(5) harus mengembalikan 120\n",
      "\n"
     ]
    },
    {
     "ename": "",
     "evalue": "",
     "output_type": "error",
     "traceback": [
      "\u001b[1;31mFailed to interrupt the Kernel. \n",
      "\u001b[1;31mUnable to start Kernel 'Python 3.12.6' due to a timeout waiting for the ports to get used. \n",
      "\u001b[1;31mView Jupyter <a href='command:jupyter.viewOutput'>log</a> for further details."
     ]
    }
   ],
   "source": [
    "print(\"A. DASAR-DASAR PYTHON\")\n",
    "print(\"1. Buat fungsi bernama faktorial(n) yang menerima sebuahbilangan bulat positif n dan mengembalikan nilai faktorial dari n. \\nContoh: faktorial(5) harus mengembalikan 120\\n\")\n",
    "\n",
    "def faktorial(n):\n",
    "  #Fungsi untuk menghitung faktorial dari bilangan n.\n",
    "\n",
    "\n",
    "  if n == 0:\n",
    "    return 1\n",
    "  else:\n",
    "    return n * faktorial(n-1)\n",
    "\n",
    "n = int(input(\"Masukkan bilangan n :\"))  \n",
    "\n",
    "hasil = faktorial(n)\n",
    "print(hasil)\n"
   ]
  },
  {
   "cell_type": "code",
   "execution_count": 21,
   "metadata": {},
   "outputs": [
    {
     "name": "stdout",
     "output_type": "stream",
     "text": [
      "2. Menghitung jumlah huruf vocal\n",
      "Jumlah setiap huruf vocal: {'a': 6, 'u': 1}\n"
     ]
    }
   ],
   "source": [
    "print(\"2. Menghitung jumlah huruf vocal\")\n",
    "\n",
    "def hitung_vokal(kalimat):\n",
    "  \n",
    "  vokal = 'aeiouAEIOU'\n",
    "  hitung = {}\n",
    "\n",
    "  for huruf in kalimat:\n",
    "    if huruf in vokal:\n",
    "      if huruf in hitung:\n",
    "        hitung[huruf] += 1\n",
    "      else:\n",
    "        hitung[huruf] = 1\n",
    "\n",
    "  return hitung\n",
    "\n",
    "# Input dari user \n",
    "kalimat = input(\"Masukkan sebuah kalimat : \")\n",
    "\n",
    "# Menghitung jumlah huruf vocal\n",
    "hasil = hitung_vokal(kalimat)\n",
    "\n",
    "# Menampilkan hasil \n",
    "print(f\"Jumlah setiap huruf vocal: {hasil}\")\n",
    "\n"
   ]
  },
  {
   "cell_type": "code",
   "execution_count": 23,
   "metadata": {},
   "outputs": [
    {
     "name": "stdout",
     "output_type": "stream",
     "text": [
      "3. Program Daftar aknga dari 1-100.\n",
      "\n",
      "[2, 4, 6, 8, 10, 12, 14, 16, 18, 20, 22, 24, 26, 28, 30, 32, 34, 36, 38, 40, 42, 44, 46, 48, 50, 52, 54, 56, 58, 60, 62, 64, 66, 68, 70, 72, 74, 76, 78, 80, 82, 84, 86, 88, 90, 92, 94, 96, 98, 100]\n"
     ]
    }
   ],
   "source": [
    "print(\"3. Program Daftar aknga dari 1-100.\\n\")\n",
    "\n",
    "def angka_genap(daftar):\n",
    "    # fungsi comprehension/cara ringkas untuk membuat daftar baru berdasarkan data yang sudah ada\n",
    "    return [angka for angka in daftar if angka % 2 == 0]\n",
    "\n",
    "#Membuat daftar angka dari 1 - 100\n",
    "daftar_angka = list(range(1, 101))\n",
    "\n",
    "#Pemanggilan fungsi dan mencetak hasil \n",
    "hasil = angka_genap(daftar_angka)\n",
    "print(hasil)"
   ]
  },
  {
   "cell_type": "code",
   "execution_count": 29,
   "metadata": {},
   "outputs": [
    {
     "name": "stdout",
     "output_type": "stream",
     "text": [
      "4. Menentukan Pemeriksaan String dari Inputan User\n",
      "\n",
      "Kalimat 'kamusku' bukan palidorme\n"
     ]
    }
   ],
   "source": [
    "print(\"4. Menentukan Pemeriksaan String dari Inputan User\\n\")\n",
    "\n",
    "def is_palindorme(string):\n",
    "    # Menghapus spasi dan mengubah semua huruf menjadi lowercase\n",
    "    string = string.replace(\" \", \"\").lower()\n",
    "\n",
    "    # membalikkan string\n",
    "    string_balik = string[::-1]\n",
    "\n",
    "    # Membandingkan string dengan string yang dibalik\n",
    "    return string == string_balik\n",
    "\n",
    "# Membuat inputan string dari pengguna\n",
    "kalimat = input(\"Masukkan sebuah kalimat: \")\n",
    "\n",
    "# Memanggil fungsi dan mencetak hasilnya\n",
    "if is_palindorme(kalimat):\n",
    "    print(f\"Kalimat '{kalimat}' adalah palidorme\")\n",
    "else :\n",
    "    print(f\"Kalimat '{kalimat}' bukan palidorme\")"
   ]
  },
  {
   "cell_type": "code",
   "execution_count": 31,
   "metadata": {},
   "outputs": [
    {
     "name": "stdout",
     "output_type": "stream",
     "text": [
      "5. Mengurutkan daftar tuple berdasarkan elemen kedua setiap tuple\n",
      "[(5, 6), (3, 4), (1, 2)]\n"
     ]
    }
   ],
   "source": [
    "print(\"5. Mengurutkan daftar tuple berdasarkan elemen kedua setiap tuple\")\n",
    "\n",
    "def menyesuaikan(daftar_tuple):\n",
    "    #sortend: untuk mengurutkan daftar\n",
    "    return sorted(daftar_tuple, key=lambda x: x[1], reverse=True)\n",
    "\n",
    "d_awal = [(1, 2), (3, 4), (5, 6)]\n",
    "d_terurut = menyesuaikan(d_awal)\n",
    "print(d_terurut)"
   ]
  }
 ],
 "metadata": {
  "kernelspec": {
   "display_name": "Python 3",
   "language": "python",
   "name": "python3"
  },
  "language_info": {
   "codemirror_mode": {
    "name": "ipython",
    "version": 3
   },
   "file_extension": ".py",
   "mimetype": "text/x-python",
   "name": "python",
   "nbconvert_exporter": "python",
   "pygments_lexer": "ipython3",
   "version": "3.12.6"
  }
 },
 "nbformat": 4,
 "nbformat_minor": 2
}
