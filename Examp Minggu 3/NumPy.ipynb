{
 "cells": [
  {
   "cell_type": "code",
   "execution_count": 3,
   "metadata": {},
   "outputs": [],
   "source": [
    "import numpy as np\n",
    "import pandas as pd"
   ]
  },
  {
   "cell_type": "code",
   "execution_count": 4,
   "metadata": {},
   "outputs": [
    {
     "name": "stdout",
     "output_type": "stream",
     "text": [
      "B. NUMPY\n",
      "\n",
      "1. Membuat Array NumPy 1d dari 100 angka acak antara 1 dan 100. Tentukan Nilai rerata, median, dan standar devisi serta jumlah elemen yang lebh besar dari 500\n",
      "Array Angka Acak: [123 819  61 830 332 116 850 172 636 990 669 195  79 249 142 206 862 358\n",
      " 389 821  96 760 578 605 957 635 971 939 355 273 540 263 662 948 695 131\n",
      " 800 714 379 549 467 284 207 443  71 254 148 597 336 601 499 324 476 974\n",
      " 192 592 739 579 787 678 574 296 799  83 697 780 647 132 392 307 595 823\n",
      " 361 337  52 555 856 946 767 625 716 736 818  96 485 138 987 251 968 284\n",
      " 617 846 474 160 931 592 696 780 682 366]\n",
      "\n",
      "Rata-rata: 522.44\n",
      "\n",
      "Median: 576.0\n",
      "\n",
      "Standar Deviasi: 278.3673946424042\n",
      "\n",
      "Jumlah elemen yang lebih besar dari 500: 54\n",
      "\n"
     ]
    }
   ],
   "source": [
    "print(\"B. NUMPY\\n\")\n",
    "print(\"1. Membuat Array NumPy 1d dari 100 angka acak antara 1 dan 100. Tentukan Nilai rerata, median, dan standar devisi serta jumlah elemen yang lebh besar dari 500\")\n",
    "\n",
    "# Membuat array 1D dengan 100 angka acak antara 1 dan 100\n",
    "angka_acak = np.random.randint(1, 1001, size=100)\n",
    "\n",
    "# Menghitunf rata-rata, median dan stanar deviasi\n",
    "rata_rata = np.mean(angka_acak)\n",
    "median = np.median(angka_acak)\n",
    "standar_deviasi = np.std(angka_acak)\n",
    "\n",
    "# Menghitunf jumlah elemen yang lebih besar dari 500\n",
    "jml_lbh_500 = np.sum(angka_acak > 500)\n",
    "\n",
    "# Mencetak hasil \n",
    "print(f\"Array Angka Acak: {angka_acak}\\n\")\n",
    "print(f\"Rata-rata: {rata_rata}\\n\")\n",
    "print(f\"Median: {median}\\n\")\n",
    "print(f\"Standar Deviasi: {standar_deviasi}\\n\")\n",
    "print(f\"Jumlah elemen yang lebih besar dari 500: {jml_lbh_500}\\n\")\n"
   ]
  },
  {
   "cell_type": "code",
   "execution_count": 5,
   "metadata": {},
   "outputs": [
    {
     "name": "stdout",
     "output_type": "stream",
     "text": [
      "2. Matriks 4x4 dengan angka acak 0-10 (cari stranspose, determinan, invers )\n",
      "\n",
      "Matriks awal:\n",
      "[[5 2 2 7]\n",
      " [5 2 3 8]\n",
      " [0 4 1 8]\n",
      " [3 6 2 3]]\n",
      "\n",
      "Transpose matriks:\n",
      " [[5 5 0 3]\n",
      " [2 2 4 6]\n",
      " [2 3 1 2]\n",
      " [7 8 8 3]]\n",
      "\n",
      "Determinan matriks: 207.99999999999997\n",
      "\n",
      "Invers matriks: \n",
      " [[ 0.47115385 -0.28846154 -0.13461538  0.02884615]\n",
      " [ 0.08173077 -0.18269231  0.04807692  0.16826923]\n",
      " [-1.09615385  1.03846154 -0.11538462  0.09615385]\n",
      " [ 0.09615385 -0.03846154  0.11538462 -0.09615385]]\n"
     ]
    }
   ],
   "source": [
    "print(\"2. Matriks 4x4 dengan angka acak 0-10 (cari stranspose, determinan, invers )\\n\")\n",
    "\n",
    "# Membuat matriks 4x4 dengan angka acak antara 0 dan 10\n",
    "matriks = np.random.randint(0, 11, size=(4,4))\n",
    "print (f\"Matriks awal:\\n{matriks}\")\n",
    "\n",
    "# Transpose matriks\n",
    "transpose_matriks = np.transpose(matriks)\n",
    "print(f\"\\nTranspose matriks:\\n {transpose_matriks}\")\n",
    "\n",
    "# Determinan matriks\n",
    "determinan = np.linalg.det(matriks)\n",
    "print(f\"\\nDeterminan matriks: {determinan}\")\n",
    "\n",
    "# Invers matriks \n",
    "try:\n",
    "    invers_matriks = np.linalg.inv(matriks)\n",
    "    print(f\"\\nInvers matriks: \\n {invers_matriks}\")\n",
    "except np.linalg.LinAlgError:\n",
    "    print(\"\\nMatriks tidak memiliki invers.\")"
   ]
  },
  {
   "cell_type": "code",
   "execution_count": 6,
   "metadata": {},
   "outputs": [
    {
     "name": "stdout",
     "output_type": "stream",
     "text": [
      "3. Membuat array 1D dengan angka 1 - 20. reshape menjadi matriks 4x5 dan hitung nilai maksimum dari setiap baris dan setiap kolom\n",
      "\n",
      "Matriks:\n",
      " [[ 1  2  3  4  5]\n",
      " [ 6  7  8  9 10]\n",
      " [11 12 13 14 15]\n",
      " [16 17 18 19 20]]\n",
      "\n",
      "Nilai Maksimum setiap baris: \n",
      " [ 5 10 15 20]\n",
      "\n",
      "Nilai Maksimum setiap kolom: \n",
      " [16 17 18 19 20]\n"
     ]
    }
   ],
   "source": [
    "print(\"3. Membuat array 1D dengan angka 1 - 20. reshape menjadi matriks 4x5 dan hitung nilai maksimum dari setiap baris dan setiap kolom\\n\")\n",
    "\n",
    "# Membuat array 1D dari 1 hingga 20\n",
    "arr_1d = np.arange(1, 21)\n",
    "\n",
    "# Reshape/mengubah array menjadi matriks 4x5\n",
    "matriks = arr_1d.reshape(4,5)\n",
    "print(f\"Matriks:\\n {matriks}\")\n",
    "\n",
    "# Nilai maksimum setiap baris \n",
    "maks_per_baris = np.max(matriks, axis=1)\n",
    "print(f\"\\nNilai Maksimum setiap baris: \\n {maks_per_baris}\")\n",
    "\n",
    "# Nilai maksimum setiap kolom\n",
    "maks_per_kolom = np.max(matriks, axis=0)\n",
    "print(f\"\\nNilai Maksimum setiap kolom: \\n {maks_per_kolom}\")\n"
   ]
  },
  {
   "cell_type": "code",
   "execution_count": 7,
   "metadata": {},
   "outputs": [
    {
     "name": "stdout",
     "output_type": "stream",
     "text": [
      "4. Membuat 2 matriks 3x3 dengan angka acak dan lakukan operasi (menambahkan kedua matriks, mengalikan kedua matriks secara element-wise, mengkalikan matriks (dot product) dari kedua matriks)\n",
      "\n",
      "Matriks 1: \n",
      " [[8 8 2]\n",
      " [1 7 3]\n",
      " [9 5 3]]\n",
      "Matriks 1: \n",
      " [[ 1 10  7]\n",
      " [ 9  3 10]\n",
      " [ 7 10  8]]\n",
      "\n",
      "=========================================\n",
      "\n",
      "\n",
      "Matriks yang sudah dijumlahkan: \n",
      " [[ 9 18  9]\n",
      " [10 10 13]\n",
      " [16 15 11]]\n",
      "\n",
      "Perkalian elemen-wise: \n",
      " [[ 8 80 14]\n",
      " [ 9 21 30]\n",
      " [63 50 24]]\n",
      "\n",
      "Perkalian matriks (dot product): \n",
      " [[ 94 124 152]\n",
      " [ 85  61 101]\n",
      " [ 75 135 137]]\n"
     ]
    }
   ],
   "source": [
    "print(\"4. Membuat 2 matriks 3x3 dengan angka acak dan lakukan operasi (menambahkan kedua matriks, mengalikan kedua matriks secara element-wise, mengkalikan matriks (dot product) dari kedua matriks)\\n\")\n",
    "\n",
    "# membuat dua matriks 3x3 dengan angka acak anata 1 dan 10\n",
    "matriks1 = np.random.randint(1, 11, size=(3, 3))\n",
    "matriks2 = np.random.randint(1, 11, size=(3, 3))\n",
    "\n",
    "print(f\"Matriks 1: \\n {matriks1}\")\n",
    "print(f\"Matriks 1: \\n {matriks2}\")\n",
    "\n",
    "print(\"\\n=========================================\\n\")\n",
    "\n",
    "# Menjumlahkan matriks 1 dan matriks 2\n",
    "penjumlahan = matriks1 + matriks2\n",
    "print(f\"\\nMatriks yang sudah dijumlahkan: \\n {penjumlahan}\")\n",
    "\n",
    "# Mengkalikan matriks element-wise\n",
    "perkalian_elemenwise = matriks1 * matriks2\n",
    "print(f\"\\nPerkalian elemen-wise: \\n {perkalian_elemenwise}\")\n",
    "\n",
    "# Mengalikan matriks (do product)\n",
    "perkalian_dot = np.dot(matriks1, matriks2)\n",
    "print(f\"\\nPerkalian matriks (dot product): \\n {perkalian_dot}\")"
   ]
  }
 ],
 "metadata": {
  "kernelspec": {
   "display_name": "Python 3",
   "language": "python",
   "name": "python3"
  },
  "language_info": {
   "codemirror_mode": {
    "name": "ipython",
    "version": 3
   },
   "file_extension": ".py",
   "mimetype": "text/x-python",
   "name": "python",
   "nbconvert_exporter": "python",
   "pygments_lexer": "ipython3",
   "version": "3.12.6"
  }
 },
 "nbformat": 4,
 "nbformat_minor": 2
}
