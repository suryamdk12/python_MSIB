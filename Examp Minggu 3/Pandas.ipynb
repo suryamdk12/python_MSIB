{
 "cells": [
  {
   "cell_type": "code",
   "execution_count": 7,
   "metadata": {},
   "outputs": [
    {
     "name": "stdout",
     "output_type": "stream",
     "text": [
      "C. PANDAS\n",
      "1. Membaca data file excel menggunakan pandas, menampilkan 5 baris pertama, mnemapilkan informasi data seperti tipe dataa ntuk setiap kategori,hitung total sales dan profit untuk setiap kategori dan membuat grafik batang dari sales untuk setiap region\n",
      "\n",
      "\n",
      "MembacaFile CSV\n",
      "==============================\n",
      "\n",
      "           Ship Mode    Segment        Country             City       State  \\\n",
      "0       Second Class   Consumer  United States        Henderson    Kentucky   \n",
      "1       Second Class   Consumer  United States        Henderson    Kentucky   \n",
      "2       Second Class  Corporate  United States      Los Angeles  California   \n",
      "3     Standard Class   Consumer  United States  Fort Lauderdale     Florida   \n",
      "4     Standard Class   Consumer  United States  Fort Lauderdale     Florida   \n",
      "...              ...        ...            ...              ...         ...   \n",
      "9988  Standard Class  Corporate  United States           Athens     Georgia   \n",
      "9989    Second Class   Consumer  United States            Miami     Florida   \n",
      "9990  Standard Class   Consumer  United States       Costa Mesa  California   \n",
      "9991  Standard Class   Consumer  United States       Costa Mesa  California   \n",
      "9992  Standard Class   Consumer  United States       Costa Mesa  California   \n",
      "\n",
      "      Postal Code Region         Category Sub-Category     Sales  Quantity  \\\n",
      "0           42420  South        Furniture    Bookcases  261.9600         2   \n",
      "1           42420  South        Furniture       Chairs  731.9400         3   \n",
      "2           90036   West  Office Supplies       Labels   14.6200         2   \n",
      "3           33311  South        Furniture       Tables  957.5775         5   \n",
      "4           33311  South  Office Supplies      Storage   22.3680         2   \n",
      "...           ...    ...              ...          ...       ...       ...   \n",
      "9988        30605  South       Technology       Phones  206.1000         5   \n",
      "9989        33180  South        Furniture  Furnishings   25.2480         3   \n",
      "9990        92627   West        Furniture  Furnishings   91.9600         2   \n",
      "9991        92627   West       Technology       Phones  258.5760         2   \n",
      "9992        92627   West  Office Supplies        Paper   29.6000         4   \n",
      "\n",
      "      Discount    Profit  \n",
      "0         0.00   41.9136  \n",
      "1         0.00  219.5820  \n",
      "2         0.00    6.8714  \n",
      "3         0.45 -383.0310  \n",
      "4         0.20    2.5164  \n",
      "...        ...       ...  \n",
      "9988      0.00   55.6470  \n",
      "9989      0.20    4.1028  \n",
      "9990      0.00   15.6332  \n",
      "9991      0.20   19.3932  \n",
      "9992      0.00   13.3200  \n",
      "\n",
      "[9993 rows x 13 columns]\n",
      "\n",
      "Menampilkan 5 Data Baris Pertama\n",
      "==============================\n",
      "\n",
      "        Ship Mode    Segment        Country             City       State  \\\n",
      "0    Second Class   Consumer  United States        Henderson    Kentucky   \n",
      "1    Second Class   Consumer  United States        Henderson    Kentucky   \n",
      "2    Second Class  Corporate  United States      Los Angeles  California   \n",
      "3  Standard Class   Consumer  United States  Fort Lauderdale     Florida   \n",
      "4  Standard Class   Consumer  United States  Fort Lauderdale     Florida   \n",
      "\n",
      "   Postal Code Region         Category Sub-Category     Sales  Quantity  \\\n",
      "0        42420  South        Furniture    Bookcases  261.9600         2   \n",
      "1        42420  South        Furniture       Chairs  731.9400         3   \n",
      "2        90036   West  Office Supplies       Labels   14.6200         2   \n",
      "3        33311  South        Furniture       Tables  957.5775         5   \n",
      "4        33311  South  Office Supplies      Storage   22.3680         2   \n",
      "\n",
      "   Discount    Profit  \n",
      "0      0.00   41.9136  \n",
      "1      0.00  219.5820  \n",
      "2      0.00    6.8714  \n",
      "3      0.45 -383.0310  \n",
      "4      0.20    2.5164  \n"
     ]
    }
   ],
   "source": [
    "import pandas as pd\n",
    "\n",
    "print(\"C. PANDAS\")\n",
    "print(\"1. Membaca data file excel menggunakan pandas, menampilkan 5 baris pertama, mnemapilkan informasi data seperti tipe dataa ntuk setiap kategori,hitung total sales dan profit untuk setiap kategori dan membuat grafik batang dari sales untuk setiap region\\n\")\n",
    "\n",
    "\n",
    "#Membaca File Exel\n",
    "print(\"\\nMembacaFile CSV\")\n",
    "print(\"==============================\\n\")\n",
    "df = pd.read_csv('SampleSuperstore.csv')\n",
    "print(df)\n"
   ]
  },
  {
   "cell_type": "code",
   "execution_count": 8,
   "metadata": {},
   "outputs": [
    {
     "name": "stdout",
     "output_type": "stream",
     "text": [
      "\n",
      "Menampilkan 5 Data Baris Pertama\n",
      "==============================\n",
      "\n",
      "        Ship Mode    Segment        Country             City       State  \\\n",
      "0    Second Class   Consumer  United States        Henderson    Kentucky   \n",
      "1    Second Class   Consumer  United States        Henderson    Kentucky   \n",
      "2    Second Class  Corporate  United States      Los Angeles  California   \n",
      "3  Standard Class   Consumer  United States  Fort Lauderdale     Florida   \n",
      "4  Standard Class   Consumer  United States  Fort Lauderdale     Florida   \n",
      "\n",
      "   Postal Code Region         Category Sub-Category     Sales  Quantity  \\\n",
      "0        42420  South        Furniture    Bookcases  261.9600         2   \n",
      "1        42420  South        Furniture       Chairs  731.9400         3   \n",
      "2        90036   West  Office Supplies       Labels   14.6200         2   \n",
      "3        33311  South        Furniture       Tables  957.5775         5   \n",
      "4        33311  South  Office Supplies      Storage   22.3680         2   \n",
      "\n",
      "   Discount    Profit  \n",
      "0      0.00   41.9136  \n",
      "1      0.00  219.5820  \n",
      "2      0.00    6.8714  \n",
      "3      0.45 -383.0310  \n",
      "4      0.20    2.5164  \n"
     ]
    }
   ],
   "source": [
    "#Menampilkan 5 baris pertama \n",
    "print(\"\\nMenampilkan 5 Data Baris Pertama\")\n",
    "print(\"==============================\\n\")\n",
    "\n",
    "data = df.head()\n",
    "print(data)"
   ]
  },
  {
   "cell_type": "code",
   "execution_count": 9,
   "metadata": {},
   "outputs": [
    {
     "name": "stdout",
     "output_type": "stream",
     "text": [
      "\n",
      "Menampilkan Tipe data di setiap Kolom\n",
      "==============================\n",
      "\n",
      "Ship Mode        object\n",
      "Segment          object\n",
      "Country          object\n",
      "City             object\n",
      "State            object\n",
      "Postal Code       int64\n",
      "Region           object\n",
      "Category         object\n",
      "Sub-Category     object\n",
      "Sales           float64\n",
      "Quantity          int64\n",
      "Discount        float64\n",
      "Profit          float64\n",
      "dtype: object\n"
     ]
    }
   ],
   "source": [
    "# Menampilkan tipe data untuk setiap kolom\n",
    "print(\"\\nMenampilkan Tipe data di setiap Kolom\")\n",
    "print(\"==============================\\n\")\n",
    "\n",
    "data = df.dtypes\n",
    "print(data)"
   ]
  },
  {
   "cell_type": "code",
   "execution_count": 10,
   "metadata": {},
   "outputs": [
    {
     "name": "stdout",
     "output_type": "stream",
     "text": [
      "\n",
      "Menghitung Total Sales dan Profit per Kategori\n",
      "==============================\n",
      "\n",
      "                       Sales       Profit\n",
      "Category                                 \n",
      "Furniture        741999.7953   18451.2728\n",
      "Office Supplies  718803.8720  122417.8528\n",
      "Technology       836154.0330  145454.9481\n"
     ]
    }
   ],
   "source": [
    "# Menghitung total sales dan profit untuk setiap kategory\n",
    "print(\"\\nMenghitung Total Sales dan Profit per Kategori\")\n",
    "print(\"==============================\\n\")\n",
    "\n",
    "\n",
    "#groupby() : mengelompokkan data berdasarkan kolom \"category\"\n",
    "#agg(): menerapkan fungsi agregasi (dalam hal ini sum())\n",
    "result = df.groupby('Category').agg({'Sales': 'sum', 'Profit': 'sum'})\n",
    "print(result)"
   ]
  },
  {
   "cell_type": "code",
   "execution_count": 12,
   "metadata": {},
   "outputs": [
    {
     "name": "stdout",
     "output_type": "stream",
     "text": [
      "\n",
      "Menampilkan Grafik Batang dari total Sales untuk setiap region\n",
      "==============================\n",
      "\n"
     ]
    },
    {
     "data": {
      "image/png": "[encoded data removed]",
      "text/plain": [
       "<Figure size 640x480 with 1 Axes>"
      ]
     },
     "metadata": {},
     "output_type": "display_data"
    }
   ],
   "source": [
    "import matplotlib.pyplot as plt #library untuk membuat sebuah grafik\n",
    "\n",
    "#Membuat grafik Batang dari total Sales untuk setiap Region\n",
    "print(\"\\nMenampilkan Grafik Batang dari total Sales untuk setiap region\")\n",
    "print(\"==============================\\n\")\n",
    "\n",
    "# Membuat grafik Batang\n",
    "plt.bar(df['Region'], df['Sales'])\n",
    "plt.xlabel('Region')\n",
    "plt.ylabel('Total Sales')\n",
    "plt.title('Total Sales per Region')\n",
    "plt.show()\n",
    "\n"
   ]
  },
  {
   "cell_type": "code",
   "execution_count": 19,
   "metadata": {},
   "outputs": [
    {
     "name": "stdout",
     "output_type": "stream",
     "text": [
      "2. Memfilter data untuk menampilkan penjualan dari negara bagian caligfornia, Menghitung Rata-Rata untuk kategori 'Office Supplies' di California\n",
      "\n",
      "\n",
      "Memfilter Data hanya penjualan dari negara bagian California\n",
      "==============================\n",
      "\n",
      "           Ship Mode      Segment        Country         City       State  \\\n",
      "2       Second Class    Corporate  United States  Los Angeles  California   \n",
      "5     Standard Class     Consumer  United States  Los Angeles  California   \n",
      "6     Standard Class     Consumer  United States  Los Angeles  California   \n",
      "7     Standard Class     Consumer  United States  Los Angeles  California   \n",
      "8     Standard Class     Consumer  United States  Los Angeles  California   \n",
      "...              ...          ...            ...          ...         ...   \n",
      "9979  Standard Class  Home Office  United States  Los Angeles  California   \n",
      "9986  Standard Class     Consumer  United States  Los Angeles  California   \n",
      "9990  Standard Class     Consumer  United States   Costa Mesa  California   \n",
      "9991  Standard Class     Consumer  United States   Costa Mesa  California   \n",
      "9992  Standard Class     Consumer  United States   Costa Mesa  California   \n",
      "\n",
      "      Postal Code Region         Category Sub-Category    Sales  Quantity  \\\n",
      "2           90036   West  Office Supplies       Labels   14.620         2   \n",
      "5           90032   West        Furniture  Furnishings   48.860         7   \n",
      "6           90032   West  Office Supplies          Art    7.280         4   \n",
      "7           90032   West       Technology       Phones  907.152         6   \n",
      "8           90032   West  Office Supplies      Binders   18.504         3   \n",
      "...           ...    ...              ...          ...      ...       ...   \n",
      "9979        90032   West  Office Supplies      Binders  437.472        14   \n",
      "9986        90008   West       Technology  Accessories   36.240         1   \n",
      "9990        92627   West        Furniture  Furnishings   91.960         2   \n",
      "9991        92627   West       Technology       Phones  258.576         2   \n",
      "9992        92627   West  Office Supplies        Paper   29.600         4   \n",
      "\n",
      "      Discount    Profit  \n",
      "2          0.0    6.8714  \n",
      "5          0.0   14.1694  \n",
      "6          0.0    1.9656  \n",
      "7          0.2   90.7152  \n",
      "8          0.2    5.7825  \n",
      "...        ...       ...  \n",
      "9979       0.2  153.1152  \n",
      "9986       0.0   15.2208  \n",
      "9990       0.0   15.6332  \n",
      "9991       0.2   19.3932  \n",
      "9992       0.0   13.3200  \n",
      "\n",
      "[2000 rows x 13 columns]\n"
     ]
    }
   ],
   "source": [
    "print(\"2. Memfilter data untuk menampilkan penjualan dari negara bagian caligfornia, Menghitung Rata-Rata untuk kategori 'Office Supplies' di California\\n\")\n",
    "\n",
    "#Memfilter data Menampilkan penjualan dri negara California\n",
    "print(\"\\nMemfilter Data hanya penjualan dari negara bagian California\")\n",
    "print(\"==============================\\n\")\n",
    "\n",
    "\n",
    "# Memfilter menggunakan masking\n",
    "california_sales = df[df['State'] == 'California']\n",
    "print(california_sales)\n"
   ]
  },
  {
   "cell_type": "code",
   "execution_count": 21,
   "metadata": {},
   "outputs": [
    {
     "name": "stdout",
     "output_type": "stream",
     "text": [
      "\n",
      "Menghitung Rata-Rata Profit untuk Kategori 'Office Supplies' di California\n",
      "==============================\n",
      "\n",
      "Rata-Rata Profit untuk Katagori 'Office Supplies': 31.474884461152886\n"
     ]
    }
   ],
   "source": [
    "print(\"\\nMenghitung Rata-Rata Profit untuk Kategori 'Office Supplies' di California\")\n",
    "print(\"==============================\\n\")\n",
    "\n",
    "# df['Category'] == 'Office Supplies': Memilih baris dengan kategori \"Office Supplies\"\n",
    "# df['State'] == 'California': Memilih baris dengan negara bagian \"California\".\n",
    "rata_rata = df[(df['Category'] == 'Office Supplies') & (df['State'] == 'California')]['Profit'].mean()\n",
    "print(f\"Rata-Rata Profit untuk Katagori 'Office Supplies': {rata_rata}\")"
   ]
  },
  {
   "cell_type": "code",
   "execution_count": 22,
   "metadata": {},
   "outputs": [
    {
     "name": "stdout",
     "output_type": "stream",
     "text": [
      "3. Membuat pivot table dari sata Sample_Superstore.xlsx untuk menampilkan (total sales berdasarkan region dan segment, total profit berdasarkan category dan sub category) \n",
      "\n",
      "\n",
      "Membuat Total sales berdasarkan Region dan Segment\n",
      "==============================\n",
      "\n",
      "      Row ID        Order ID Order Date  Ship Date       Ship Mode  \\\n",
      "0          1  CA-2016-152156 2016-11-08 2016-11-11    Second Class   \n",
      "1          2  CA-2016-152156 2016-11-08 2016-11-11    Second Class   \n",
      "2          3  CA-2016-138688 2016-06-12 2016-06-16    Second Class   \n",
      "3          4  US-2015-108966 2015-10-11 2015-10-18  Standard Class   \n",
      "4          5  US-2015-108966 2015-10-11 2015-10-18  Standard Class   \n",
      "...      ...             ...        ...        ...             ...   \n",
      "9989    9990  CA-2014-110422 2014-01-21 2014-01-23    Second Class   \n",
      "9990    9991  CA-2017-121258 2017-02-26 2017-03-03  Standard Class   \n",
      "9991    9992  CA-2017-121258 2017-02-26 2017-03-03  Standard Class   \n",
      "9992    9993  CA-2017-121258 2017-02-26 2017-03-03  Standard Class   \n",
      "9993    9994  CA-2017-119914 2017-05-04 2017-05-09    Second Class   \n",
      "\n",
      "     Customer ID     Customer Name    Segment        Country             City  \\\n",
      "0       CG-12520       Claire Gute   Consumer  United States        Henderson   \n",
      "1       CG-12520       Claire Gute   Consumer  United States        Henderson   \n",
      "2       DV-13045   Darrin Van Huff  Corporate  United States      Los Angeles   \n",
      "3       SO-20335    Sean O'Donnell   Consumer  United States  Fort Lauderdale   \n",
      "4       SO-20335    Sean O'Donnell   Consumer  United States  Fort Lauderdale   \n",
      "...          ...               ...        ...            ...              ...   \n",
      "9989    TB-21400  Tom Boeckenhauer   Consumer  United States            Miami   \n",
      "9990    DB-13060       Dave Brooks   Consumer  United States       Costa Mesa   \n",
      "9991    DB-13060       Dave Brooks   Consumer  United States       Costa Mesa   \n",
      "9992    DB-13060       Dave Brooks   Consumer  United States       Costa Mesa   \n",
      "9993    CC-12220      Chris Cortes   Consumer  United States      Westminster   \n",
      "\n",
      "      ... Postal Code  Region       Product ID         Category Sub-Category  \\\n",
      "0     ...       42420   South  FUR-BO-10001798        Furniture    Bookcases   \n",
      "1     ...       42420   South  FUR-CH-10000454        Furniture       Chairs   \n",
      "2     ...       90036    West  OFF-LA-10000240  Office Supplies       Labels   \n",
      "3     ...       33311   South  FUR-TA-10000577        Furniture       Tables   \n",
      "4     ...       33311   South  OFF-ST-10000760  Office Supplies      Storage   \n",
      "...   ...         ...     ...              ...              ...          ...   \n",
      "9989  ...       33180   South  FUR-FU-10001889        Furniture  Furnishings   \n",
      "9990  ...       92627    West  FUR-FU-10000747        Furniture  Furnishings   \n",
      "9991  ...       92627    West  TEC-PH-10003645       Technology       Phones   \n",
      "9992  ...       92627    West  OFF-PA-10004041  Office Supplies        Paper   \n",
      "9993  ...       92683    West  OFF-AP-10002684  Office Supplies   Appliances   \n",
      "\n",
      "                                           Product Name     Sales  Quantity  \\\n",
      "0                     Bush Somerset Collection Bookcase  261.9600         2   \n",
      "1     Hon Deluxe Fabric Upholstered Stacking Chairs,...  731.9400         3   \n",
      "2     Self-Adhesive Address Labels for Typewriters b...   14.6200         2   \n",
      "3         Bretford CR4500 Series Slim Rectangular Table  957.5775         5   \n",
      "4                        Eldon Fold 'N Roll Cart System   22.3680         2   \n",
      "...                                                 ...       ...       ...   \n",
      "9989                             Ultra Door Pull Handle   25.2480         3   \n",
      "9990  Tenex B1-RE Series Chair Mats for Low Pile Car...   91.9600         2   \n",
      "9991                              Aastra 57i VoIP phone  258.5760         2   \n",
      "9992  It's Hot Message Books with Stickers, 2 3/4\" x 5\"   29.6000         4   \n",
      "9993  Acco 7-Outlet Masterpiece Power Center, Wihtou...  243.1600         2   \n",
      "\n",
      "      Discount    Profit  \n",
      "0         0.00   41.9136  \n",
      "1         0.00  219.5820  \n",
      "2         0.00    6.8714  \n",
      "3         0.45 -383.0310  \n",
      "4         0.20    2.5164  \n",
      "...        ...       ...  \n",
      "9989      0.20    4.1028  \n",
      "9990      0.00   15.6332  \n",
      "9991      0.20   19.3932  \n",
      "9992      0.00   13.3200  \n",
      "9993      0.00   72.9480  \n",
      "\n",
      "[9994 rows x 21 columns]\n"
     ]
    }
   ],
   "source": [
    "print(\"3. Membuat pivot table dari sata Sample_Superstore.xlsx untuk menampilkan (total sales berdasarkan region dan segment, total profit berdasarkan category dan sub category) \\n\")\n",
    "\n",
    "\n",
    "#Memfilter data Menampilkan penjualan dri negara California\n",
    "print(\"\\nDataFrame Sample_Superstore.xlsx\")\n",
    "print(\"==============================\\n\")\n",
    "\n",
    "df2 = pd.read_excel('Sample_Superstore.xlsx')\n",
    "print(df2)\n"
   ]
  },
  {
   "cell_type": "code",
   "execution_count": 23,
   "metadata": {},
   "outputs": [
    {
     "name": "stdout",
     "output_type": "stream",
     "text": [
      "\n",
      "Total Sales erdasarkan Region dan Segment\n",
      "==============================\n",
      "\n",
      "                           Sales\n",
      "Region  Segment                 \n",
      "Central Consumer     252031.4340\n",
      "        Corporate    157995.8128\n",
      "        Home Office   91212.6440\n",
      "East    Consumer     350908.1670\n",
      "        Corporate    200409.3470\n",
      "        Home Office  127463.7260\n",
      "South   Consumer     195580.9710\n",
      "        Corporate    121885.9325\n",
      "        Home Office   74255.0015\n",
      "West    Consumer     362637.6130\n",
      "        Corporate    225855.2745\n",
      "        Home Office  136721.7770\n"
     ]
    }
   ],
   "source": [
    "print(\"\\nTotal Sales berdasarkan Region dan Segment\")\n",
    "print(\"==============================\\n\")\n",
    "\n",
    "# Membuat total sales \n",
    "total_sales = df.groupby(['Region', 'Segment']).agg({'Sales':'sum'})\n",
    "print(total_sales)\n"
   ]
  },
  {
   "cell_type": "code",
   "execution_count": 24,
   "metadata": {},
   "outputs": [
    {
     "name": "stdout",
     "output_type": "stream",
     "text": [
      "\n",
      "Total Profit berdasarkan Kategory dan Sub-Category\n",
      "==============================\n",
      "\n",
      "                                  Profit\n",
      "Category        Sub-Category            \n",
      "Furniture       Bookcases     -3472.5560\n",
      "                Chairs        26590.1663\n",
      "                Furnishings   13059.1436\n",
      "                Tables       -17725.4811\n",
      "Office Supplies Appliances    18065.0574\n",
      "                Art            6527.7870\n",
      "                Binders       30221.7633\n",
      "                Envelopes      6964.1767\n",
      "                Fasteners       949.5182\n",
      "                Labels         5546.2540\n",
      "                Paper         34053.5693\n",
      "                Storage       21278.8264\n",
      "                Supplies      -1189.0995\n",
      "Technology      Accessories   41936.6357\n",
      "                Copiers       55617.8249\n",
      "                Machines       3384.7569\n",
      "                Phones        44515.7306\n"
     ]
    }
   ],
   "source": [
    "print(\"\\nTotal Profit berdasarkan Kategory dan Sub-Category\")\n",
    "print(\"==============================\\n\")\n",
    "\n",
    "# Membuat total sales \n",
    "total_profit = df.groupby(['Category', 'Sub-Category']).agg({'Profit':'sum'})\n",
    "print(total_profit)\n",
    "\n",
    "\n"
   ]
  },
  {
   "cell_type": "code",
   "execution_count": 25,
   "metadata": {},
   "outputs": [
    {
     "name": "stdout",
     "output_type": "stream",
     "text": [
      "4. Import dataset dari url lalu (baca ke dalam DataFrame, ubah nama kolom menjadi ['Index', 'Height(Inches)', Weight(Pounds)']) \n",
      "\n",
      "\n",
      "Membaca DataFrame hw_200.csv\n",
      "==============================\n",
      "\n",
      "     Index   Height(Inches)\"   \"Weight(Pounds)\"\n",
      "0        1             65.78             112.99\n",
      "1        2             71.52             136.49\n",
      "2        3             69.40             153.03\n",
      "3        4             68.22             142.34\n",
      "4        5             67.79             144.30\n",
      "..     ...               ...                ...\n",
      "195    196             65.80             120.84\n",
      "196    197             66.11             115.78\n",
      "197    198             68.24             128.30\n",
      "198    199             68.02             127.47\n",
      "199    200             71.39             127.88\n",
      "\n",
      "[200 rows x 3 columns]\n"
     ]
    }
   ],
   "source": [
    "print(\"4. Import dataset dari url lalu (baca ke dalam DataFrame, ubah nama kolom menjadi ['Index', 'Height(Inches)', Weight(Pounds)']) \\n\")\n",
    "\n",
    "\n",
    "#Memfilter data Menampilkan penjualan dri negara California\n",
    "print(\"\\nMembaca DataFrame hw_200.csv\")\n",
    "print(\"==============================\\n\")\n",
    "\n",
    "df = pd.read_csv('hw_200.csv')\n",
    "print(df)"
   ]
  },
  {
   "cell_type": "code",
   "execution_count": 28,
   "metadata": {},
   "outputs": [
    {
     "name": "stdout",
     "output_type": "stream",
     "text": [
      "\n",
      "Mengubah nama kolom DataFrame hw_200.csv\n",
      "==============================\n",
      "\n",
      "     Index   Height(Inches)\"   \"Weight(Pounds)\"\n",
      "0        1             65.78             112.99\n",
      "1        2             71.52             136.49\n",
      "2        3             69.40             153.03\n",
      "3        4             68.22             142.34\n",
      "4        5             67.79             144.30\n",
      "..     ...               ...                ...\n",
      "195    196             65.80             120.84\n",
      "196    197             66.11             115.78\n",
      "197    198             68.24             128.30\n",
      "198    199             68.02             127.47\n",
      "199    200             71.39             127.88\n",
      "\n",
      "[200 rows x 3 columns]\n"
     ]
    }
   ],
   "source": [
    "print(\"\\nMengubah nama kolom DataFrame hw_200.csv\")\n",
    "print(\"==============================\\n\")\n",
    "\n",
    "\n",
    "df = df.rename(columns={'Idex':'Index', 'Height(inches)':'Height(inches)','Width(Pounds)':'Width(Pounds)'})\n",
    "print(df)"
   ]
  },
  {
   "cell_type": "code",
   "execution_count": 8,
   "metadata": {},
   "outputs": [
    {
     "name": "stdout",
     "output_type": "stream",
     "text": [
      "\n",
      "Menambah Kolom baru bernama 'BMI'\n",
      "==============================\n",
      "\n",
      "   Berat Berat (kg) Tinggi (m^2)  Tinggi\n",
      "0     60       None         None    1.65\n",
      "1     75       None         None    1.78\n",
      "2     55       None         None    1.55\n"
     ]
    }
   ],
   "source": [
    "import pandas as pd\n",
    "print(\"\\nMenambah Kolom baru bernama 'BMI'\")\n",
    "print(\"==============================\\n\")\n",
    "\n",
    "df.insert(1, 'Berat (kg)', None)\n",
    "df.insert(2, 'Tinggi (m^2)', None)\n",
    "print(df)\n"
   ]
  }
 ],
 "metadata": {
  "kernelspec": {
   "display_name": "Python 3",
   "language": "python",
   "name": "python3"
  },
  "language_info": {
   "codemirror_mode": {
    "name": "ipython",
    "version": 3
   },
   "file_extension": ".py",
   "mimetype": "text/x-python",
   "name": "python",
   "nbconvert_exporter": "python",
   "pygments_lexer": "ipython3",
   "version": "3.12.6"
  }
 },
 "nbformat": 4,
 "nbformat_minor": 2
}
