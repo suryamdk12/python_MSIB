{
 "cells": [
  {
   "cell_type": "markdown",
   "metadata": {},
   "source": [
    "# Examp Minggu 5"
   ]
  },
  {
   "cell_type": "markdown",
   "metadata": {},
   "source": [
    "app.ipynb (FastAPI)"
   ]
  },
  {
   "cell_type": "code",
   "execution_count": null,
   "metadata": {},
   "outputs": [],
   "source": [
    "from fastapi import FastAPI\n",
    "from pydantic import BaseModel\n",
    "import model.py\n",
    "import database\n",
    "import requests\n",
    "import datetime\n",
    "\n",
    "# app.ipynb (FastAPI)\n",
    "\n",
    "class PropertyInput(BaseModel):\n",
    " bedrooms: int\n",
    " bathrooms: int\n",
    " sqft: float\n",
    " location: str\n",
    "\n",
    "@app.post(\"/predict\")\n",
    "def predict_price(property: PropertyInput):\n",
    "\n",
    "    \"\"\"\n",
    "        menerima data properti dari pengguna dan mengembalikan prediksi harga \n",
    "        Args:\n",
    "            property (PropertyInput): Model yang berisi informasi properti\n",
    "        Returns:\n",
    "            dict: {\"user_id\": str, \"predicted_price\": float}\n",
    "            - user_id: ID pengguna yang didapat dari API publik.\n",
    "            - predicted_price: Harga rumah prediksi berdasarkan model.\n",
    "    \"\"\"\n",
    "\n",
    "    # Ambil data dari API publik\n",
    "    user_data = requests.get(\"https://randomuser.me/api/\").json()\n",
    "    user_id = user_data['results'][0]['login']['uuid']\n",
    "    \n",
    "    # Prediksi harga rumah\n",
    "    predicted_price = model.predict(property.bedrooms, property.bathrooms, \n",
    "    property.sqft, property.location)\n",
    "    \n",
    "    # Simpan ke MongoDB\n",
    "    database.save_to_db(user_id, property.dict(), predicted_price)\n",
    " \n",
    "    return {\"user_id\": user_id, \"predicted_price\": predicted_price}\n",
    "\n",
    "@app.get(\"/stats\")\n",
    "def get_stats():\n",
    "    \"\"\"\n",
    "    Mengembalikan statistik sederhana tentang dataset harga rumah (mean, median, dll).\n",
    "\n",
    "    Returns:\n",
    "        dict: {\"mean\": float, \"median\": float, \"std_dev\": float}\n",
    "            - mean: Harga rata-rata rumah dalam dataset.\n",
    "            - median: Harga tengah rumah dalam dataset.\n",
    "            - std_dev: Standar deviasi harga rumah dalam dataset.\n",
    "    \"\"\"\n",
    "    # Ambil statistik dataset\n",
    "    stats = model.get_statistics()\n",
    "    return stats\n",
    "\n",
    "\n"
   ]
  },
  {
   "cell_type": "code",
   "execution_count": null,
   "metadata": {},
   "outputs": [],
   "source": [
    "# model.ipynb (Model Machine Learning)\n",
    "import numpy as np\n",
    "from sklearn.linear_model import LinearRegression\n",
    "from sklearn.model_selection import train_test_split\n",
    "from sklearn.preprocessing import StandardScaler\n",
    "import pandas as pd\n",
    "# Load dataset harga rumah\n",
    "data = pd.read_csv(\"housing.csv\")\n",
    "X = data[[\"bedrooms\", \"bathrooms\", \"sqft\", \"location\"]]\n",
    "y = data[\"price\"]\n",
    "\n",
    "# Preprocessing\n",
    "scaler = StandardScaler()\n",
    "X_scaled = scaler.fit_transform(X)\n",
    "X_train, X_test, y_train, y_test = train_test_split(X_scaled, y, test_size=0.2)\n",
    "\n",
    "# Model\n",
    "model = LinearRegression()\n",
    "model.fit(X_train, y_train)\n",
    "def predict(bedrooms, bathrooms, sqft, location):\n",
    " X_new = scaler.transform([[bedrooms, bathrooms, sqft, location]])\n",
    " return model.predict(X_new)[0]\n",
    "def get_statistics():\n",
    " return {\n",
    " \"mean\": np.mean(y),\n",
    " \"median\": np.median(y),\n",
    " \"std_dev\": np.std(y)\n",
    " }"
   ]
  },
  {
   "cell_type": "code",
   "execution_count": 15,
   "metadata": {},
   "outputs": [],
   "source": [
    "# database.ipynb (MongoDB Integration)\n",
    "from pymongo import MongoClient\n",
    "import datetime\n",
    "client = MongoClient(\"mongodb://localhost:27017/\")\n",
    "db = client['housing_db']\n",
    "def save_to_db(user_id, property_data, predicted_price):\n",
    " db.predictions.insert_one({\n",
    " \"user_id\": user_id,\n",
    " \"property_data\": property_data,\n",
    " \"predicted_price\": predicted_price,\n",
    " \"timestamp\": datetime.datetime.now()\n",
    " })\n"
   ]
  }
 ],
 "metadata": {
  "kernelspec": {
   "display_name": "Python 3",
   "language": "python",
   "name": "python3"
  },
  "language_info": {
   "codemirror_mode": {
    "name": "ipython",
    "version": 3
   },
   "file_extension": ".py",
   "mimetype": "text/x-python",
   "name": "python",
   "nbconvert_exporter": "python",
   "pygments_lexer": "ipython3",
   "version": "3.12.6"
  }
 },
 "nbformat": 4,
 "nbformat_minor": 2
}
