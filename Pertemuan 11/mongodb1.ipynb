{
 "cells": [
  {
   "cell_type": "code",
   "execution_count": 16,
   "metadata": {},
   "outputs": [],
   "source": [
    "from pymongo import MongoClient"
   ]
  },
  {
   "cell_type": "code",
   "execution_count": 17,
   "metadata": {},
   "outputs": [
    {
     "name": "stdout",
     "output_type": "stream",
     "text": [
      "Koneksi tersambung ke MongoDB\n",
      "<pymongo.synchronous.cursor.Cursor object at 0x0000022246C1ACF0>\n",
      "<pymongo.synchronous.cursor.Cursor object at 0x0000022246C1ACF0>\n",
      "<pymongo.synchronous.cursor.Cursor object at 0x0000022246C1ACF0>\n",
      "<pymongo.synchronous.cursor.Cursor object at 0x0000022246C1ACF0>\n",
      "<pymongo.synchronous.cursor.Cursor object at 0x0000022246C1ACF0>\n",
      "<pymongo.synchronous.cursor.Cursor object at 0x0000022246C1ACF0>\n",
      "<pymongo.synchronous.cursor.Cursor object at 0x0000022246C1ACF0>\n",
      "<pymongo.synchronous.cursor.Cursor object at 0x0000022246C1ACF0>\n",
      "<pymongo.synchronous.cursor.Cursor object at 0x0000022246C1ACF0>\n",
      "<pymongo.synchronous.cursor.Cursor object at 0x0000022246C1ACF0>\n"
     ]
    }
   ],
   "source": [
    "# Menghubungkan MongoDB dan terhubung ke server \n",
    "\n",
    "try:\n",
    "    # Membuat MongoClient untuk terhubung ke server MongoDB local\n",
    "    client =  MongoClient(\"mongodb://localhost:27017/\")\n",
    "    # Memilih database sesuai yang ada di MongoDB\n",
    "    database = client[\"MSIB_python\"]\n",
    "    # Memilih koleksi\n",
    "    collection = database['tbl_mhs']\n",
    "\n",
    "    # Mencetak pesan yang menunjukkan koneksi berhasil\n",
    "    print(\"Koneksi tersambung ke MongoDB\")\n",
    "except Exception as e:\n",
    "    # Menangani pengecualian dan mencetak pesan kesahalan jika gagal koneksi\n",
    "    print(f\"Kesalahan: {e}\")\n",
    "\n",
    "documents = collection.find()\n",
    "# Menampilkan isi collection\n",
    "for doc in documents: \n",
    "    print(documents)"
   ]
  },
  {
   "cell_type": "code",
   "execution_count": 20,
   "metadata": {},
   "outputs": [
    {
     "name": "stdout",
     "output_type": "stream",
     "text": [
      "Data berhasil ditambahkan dengan ID : 6702ad46526459fc6918e6b3\n"
     ]
    }
   ],
   "source": [
    "# Melakukan input data/ memasukkan data dalam koleksi di MongoDB\n",
    "\n",
    "#Data yang ingin ditambahkan\n",
    "new_data = {\n",
    "    \"name\": \"Adika Perkasa\",\n",
    "    \"jk\" : \"L\",\n",
    "    \"prodi\" : \"Teknik Elektro\",\n",
    "    \"address\" : \"Sulawesi Tenggara\",\n",
    "    \"email\" : \"andika2023@gmail.com\"\n",
    "}\n",
    "\n",
    "# Menambahkan data baru ke koleksi MongoDB\n",
    "insert_result = collection.insert_one(new_data)\n",
    "\n",
    "# Menampilkan ID dokumen yang baru di tambahkan\n",
    "print(f\"Data berhasil ditambahkan dengan ID : {insert_result.inserted_id}\")\n"
   ]
  },
  {
   "cell_type": "code",
   "execution_count": 22,
   "metadata": {},
   "outputs": [
    {
     "name": "stdout",
     "output_type": "stream",
     "text": [
      "1 dokumen berhasil diubah/update\n"
     ]
    }
   ],
   "source": [
    "# Update Data\n",
    "\n",
    "# Memilih Collection/koleksi yang ingin diubah isinya\n",
    "collection = database[\"tbl_mhs\"]\n",
    "\n",
    "# Membuat kriteria yang ingin diedit/memilih data sesuai field untuk diedit\n",
    "kriteria = {\"name\": \"Yunia Putri\"} #nama sudah ada di dalam koleksi tbl_ms\n",
    "\n",
    "# Data yang ingin diubah/update\n",
    "data_update = {\n",
    "    \"$set\": {\n",
    "        \"email\": \"yunia_putri12@gmail.com\" # mengubah nama email \n",
    "    }\n",
    "}\n",
    "\n",
    "# Melakukan update data\n",
    "update_result = collection.update_one(kriteria, data_update)\n",
    "\n",
    "# Menampilkan pesan ketikan data erhasil dan tidaknya tersimpan\n",
    "if update_result.matched_count > 0:\n",
    "    print(f\"{update_result.modified_count} dokumen berhasil diubah/update\")\n",
    "else:\n",
    "    print(\"Tidak ada data yang cocok untuk dilakukan update.\")"
   ]
  },
  {
   "cell_type": "code",
   "execution_count": null,
   "metadata": {},
   "outputs": [],
   "source": [
    "# Melakukan Delete/penghapusan data di MongoDB\n",
    "\n",
    "# Collection\n",
    "collection = database[\"tbl_mhs\"]\n",
    "\n",
    "# Memilih kriteria yang ingin dihapus (misal berdasarkan nama)\n",
    "kriteria = {\"nama\": \"Andika Perkasa\"}\n",
    "\n",
    "# Menghapus satu data yang sesuai dengan kriteria\n",
    "delete_result = collection.delete_one(kriteria)\n",
    "\n",
    "# Menampilkan hasil\n",
    "if delete_result.deleted_count > 0:\n",
    "    print(\"Data berhasil dihapus/delete\")\n",
    "else:\n",
    "    print(\"Tidak ada data yang cocok untuk dihapus.\")"
   ]
  }
 ],
 "metadata": {
  "kernelspec": {
   "display_name": "Python 3",
   "language": "python",
   "name": "python3"
  },
  "language_info": {
   "codemirror_mode": {
    "name": "ipython",
    "version": 3
   },
   "file_extension": ".py",
   "mimetype": "text/x-python",
   "name": "python",
   "nbconvert_exporter": "python",
   "pygments_lexer": "ipython3",
   "version": "3.12.6"
  }
 },
 "nbformat": 4,
 "nbformat_minor": 2
}
