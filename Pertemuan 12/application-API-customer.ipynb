{
 "cells": [
  {
   "cell_type": "code",
   "execution_count": 6,
   "metadata": {},
   "outputs": [
    {
     "name": "stdout",
     "output_type": "stream",
     "text": [
      "Cuaca di Denpasar\n",
      "Suhu : 28.91^C\n",
      "Deskripsi : overcast clouds\n"
     ]
    }
   ],
   "source": [
    "# MENDAPATKAN INFORMASI CUACA MELALUI API \n",
    "\n",
    "import requests\n",
    "\n",
    "url = \"https://api.openweathermap.org/data/2.5/weather\"\n",
    "# Parameter untuk API (mialnya, nama kata, API key)\n",
    "params = {\n",
    "    \"q\": \"Denpasar\",\n",
    "    \"appid\": \"68433059aae9bc07f30ef23c973276a5\", # Ganti dengan API anda\n",
    "    \"units\": \"metric\"\n",
    "}\n",
    "\n",
    "# Membuat permintaan GET ke API\n",
    "response = requests.get(url, params=params)\n",
    "# Cek apakah permintaan berhasil\n",
    "if response.status_code == 200:\n",
    "    data = response.json()\n",
    "    city = data[\"name\"]\n",
    "    temperature = data[\"main\"][\"temp\"]\n",
    "    description = data[\"weather\"][0][\"description\"]\n",
    "    print(f\"Cuaca di {city}\")\n",
    "    print(f\"Suhu : {temperature}^C\")\n",
    "    print(f\"Deskripsi : {description}\")\n",
    "else:\n",
    "    print(\"Terjadi kesalaha saat mengakses API\")"
   ]
  },
  {
   "cell_type": "code",
   "execution_count": null,
   "metadata": {},
   "outputs": [],
   "source": []
  }
 ],
 "metadata": {
  "kernelspec": {
   "display_name": "Python 3",
   "language": "python",
   "name": "python3"
  },
  "language_info": {
   "codemirror_mode": {
    "name": "ipython",
    "version": 3
   },
   "file_extension": ".py",
   "mimetype": "text/x-python",
   "name": "python",
   "nbconvert_exporter": "python",
   "pygments_lexer": "ipython3",
   "version": "3.12.6"
  }
 },
 "nbformat": 4,
 "nbformat_minor": 2
}
