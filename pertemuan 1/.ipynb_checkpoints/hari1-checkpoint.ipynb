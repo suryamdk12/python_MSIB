{
 "cells": [
  {
   "cell_type": "code",
   "execution_count": 1,
   "id": "e2c9112e-2e08-4485-91a3-721c10d0ee4a",
   "metadata": {},
   "outputs": [
    {
     "name": "stdout",
     "output_type": "stream",
     "text": [
      "276\n"
     ]
    }
   ],
   "source": [
    "#menentukan luas persegi panjang\n",
    "\n",
    "panjang = 12\n",
    "lebar = 23\n",
    "luas = panjang * lebar \n",
    "\n",
    "print(luas)"
   ]
  },
  {
   "cell_type": "code",
   "execution_count": 3,
   "id": "db6f3f3e-dd52-4d98-acfa-b81c37455333",
   "metadata": {},
   "outputs": [
    {
     "name": "stdin",
     "output_type": "stream",
     "text": [
      "Masukkan Alas: 23\n",
      "Masukkan Tinggi: 12\n"
     ]
    },
    {
     "name": "stdout",
     "output_type": "stream",
     "text": [
      "138.0\n"
     ]
    }
   ],
   "source": [
    "#menentukan luas segitiga\n",
    "alas = int(input(\"Masukkan Alas:\"))\n",
    "tinggi = int(input(\"Masukkan Tinggi:\"))\n",
    "\n",
    "luas = 0.5*alas*tinggi\n",
    "\n",
    "print(luas)"
   ]
  },
  {
   "cell_type": "code",
   "execution_count": 5,
   "id": "9d7ff1a0-23e8-4b2d-897d-30597c87f709",
   "metadata": {},
   "outputs": [
    {
     "name": "stdin",
     "output_type": "stream",
     "text": [
      "Masukkan Bilangan: 23\n"
     ]
    },
    {
     "name": "stdout",
     "output_type": "stream",
     "text": [
      "Itu Bilangan \n",
      "Angka anda aadalah :23\n"
     ]
    }
   ],
   "source": [
    "A = int(input(\"Masukkan Bilangan:\"))\n",
    "if A>0:\n",
    "    print('Itu Bilangan ')\n",
    "else:\n",
    "    print('Bukan Bilangan')\n",
    "\n",
    "print(f\"Angka anda aadalah :{A}\")\n",
    "    "
   ]
  },
  {
   "cell_type": "code",
   "execution_count": 7,
   "id": "ca9f52d7-9bfa-41a0-99d8-6084f40eb9a4",
   "metadata": {},
   "outputs": [
    {
     "name": "stdin",
     "output_type": "stream",
     "text": [
      "Masukkan Bilangan : 23\n"
     ]
    },
    {
     "name": "stdout",
     "output_type": "stream",
     "text": [
      "Itu Bilangan Positif\n"
     ]
    }
   ],
   "source": [
    "#Contoh percabangan majemuk bertingkat\n",
    "a = int(input(\"Masukkan Bilangan :\"))\n",
    "\n",
    "if a>0:\n",
    "    print(\"Itu Bilangan Positif\")\n",
    "else:\n",
    "    if a<0:\n",
    "        print(\"Itu Bilangan Negatif\")\n",
    "    else:\n",
    "        print(\"Itu Bilangan Nol\")"
   ]
  },
  {
   "cell_type": "code",
   "execution_count": 9,
   "id": "09ddf817-9c0e-4495-8130-5439a8668e24",
   "metadata": {},
   "outputs": [
    {
     "name": "stdout",
     "output_type": "stream",
     "text": [
      "5 3 8 15 2 1.6666666666666667 1 2\n"
     ]
    }
   ],
   "source": [
    "a=5\n",
    "b=3\n",
    "c=a+b\n",
    "d=a*b\n",
    "e=a-b\n",
    "f=a/b\n",
    "g=a//b\n",
    "h=a%b\n",
    "print(a,b,c,d,e,f,g,h)"
   ]
  },
  {
   "cell_type": "code",
   "execution_count": 11,
   "id": "4907946c-a069-4681-ba51-7a61f9f67978",
   "metadata": {},
   "outputs": [
    {
     "name": "stdout",
     "output_type": "stream",
     "text": [
      "1\n",
      "0\n",
      "1\n",
      "0\n",
      "1\n"
     ]
    }
   ],
   "source": [
    "print(1%2)\n",
    "print(2%2)\n",
    "print(3%2)\n",
    "print(4%2)\n",
    "print(2314232321%2)\n",
    "#jika apapun angka di modulo %2 hasilnya 1 maka ganjil\n",
    "#jika apapun angka di modulo %2 hasilnya 0 maka genap"
   ]
  },
  {
   "cell_type": "code",
   "execution_count": 19,
   "id": "0061ad7e-c958-402f-823c-e7c2428ad211",
   "metadata": {},
   "outputs": [
    {
     "ename": "SyntaxError",
     "evalue": "'(' was never closed (849719317.py, line 2)",
     "output_type": "error",
     "traceback": [
      "\u001b[1;36m  Cell \u001b[1;32mIn[19], line 2\u001b[1;36m\u001b[0m\n\u001b[1;33m    a = int(input(\"Masukkan angka:\")\u001b[0m\n\u001b[1;37m           ^\u001b[0m\n\u001b[1;31mSyntaxError\u001b[0m\u001b[1;31m:\u001b[0m '(' was never closed\n"
     ]
    }
   ],
   "source": [
    "#contoh percabangan ganjil genap\n",
    "a = int(input(\"Masukkan angka:\")\n",
    "\n",
    "if a%2:\n",
    "    print(\"bilangan genap\")\n",
    "else:\n",
    "    print(\"bilangan ganjil\")\n",
    "\n",
    "\n"
   ]
  },
  {
   "cell_type": "code",
   "execution_count": 29,
   "id": "4400ef31-3c39-4350-99f9-2395f1c5e43b",
   "metadata": {},
   "outputs": [
    {
     "name": "stdin",
     "output_type": "stream",
     "text": [
      "Masukkan angka:  32\n"
     ]
    },
    {
     "name": "stdout",
     "output_type": "stream",
     "text": [
      "Bilangan anda 32 Ganjil Negatif\n",
      "Bilangan anda 32 Genap Positif\n"
     ]
    }
   ],
   "source": [
    "##pengecekan angka \n",
    "\n",
    "a = int(input(\"Masukkan angka: \"))\n",
    "\n",
    "if a>0:\n",
    "    if a%2:\n",
    "        print(f\"Bilangan anda {a} Genap Positif\")\n",
    "    else:\n",
    "        print(f\"Bilangan anda {a} Ganjil Negatif\")\n",
    "\n",
    "elif a<0:\n",
    "    if a%2 == 0:\n",
    "        print(f\"Bilangan anda {a} Genap Positif\")\n",
    "    \n",
    "    else:\n",
    "        print(f\"Bilangan anda {a} Ganjl Negatif\")\n",
    "        "
   ]
  },
  {
   "cell_type": "code",
   "execution_count": null,
   "id": "d18c4065-5316-4477-bf28-55c72cbc12ae",
   "metadata": {},
   "outputs": [],
   "source": []
  }
 ],
 "metadata": {
  "kernelspec": {
   "display_name": "Python 3 (ipykernel)",
   "language": "python",
   "name": "python3"
  },
  "language_info": {
   "codemirror_mode": {
    "name": "ipython",
    "version": 3
   },
   "file_extension": ".py",
   "mimetype": "text/x-python",
   "name": "python",
   "nbconvert_exporter": "python",
   "pygments_lexer": "ipython3",
   "version": "3.12.4"
  }
 },
 "nbformat": 4,
 "nbformat_minor": 5
}
