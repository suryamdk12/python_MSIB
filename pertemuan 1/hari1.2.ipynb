nama = "surya"
for i in (100):
    print(f"{i+1}.{nama}")