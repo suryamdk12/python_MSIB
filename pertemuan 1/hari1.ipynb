{
 "cells": [
  {
   "cell_type": "code",
   "execution_count": 1,
   "id": "e2c9112e-2e08-4485-91a3-721c10d0ee4a",
   "metadata": {},
   "outputs": [
    {
     "name": "stdout",
     "output_type": "stream",
     "text": [
      "276\n"
     ]
    }
   ],
   "source": [
    "#menentukan luas persegi panjang\n",
    "\n",
    "panjang = 12\n",
    "lebar = 23\n",
    "luas = panjang * lebar \n",
    "\n",
    "print(luas)"
   ]
  },
  {
   "cell_type": "code",
   "execution_count": 3,
   "id": "db6f3f3e-dd52-4d98-acfa-b81c37455333",
   "metadata": {},
   "outputs": [
    {
     "name": "stdin",
     "output_type": "stream",
     "text": [
      "Masukkan Alas: 23\n",
      "Masukkan Tinggi: 12\n"
     ]
    },
    {
     "name": "stdout",
     "output_type": "stream",
     "text": [
      "138.0\n"
     ]
    }
   ],
   "source": [
    "#menentukan luas segitiga\n",
    "alas = int(input(\"Masukkan Alas:\"))\n",
    "tinggi = int(input(\"Masukkan Tinggi:\"))\n",
    "\n",
    "luas = 0.5*alas*tinggi\n",
    "\n",
    "print(luas)"
   ]
  },
  {
   "cell_type": "code",
   "execution_count": 5,
   "id": "9d7ff1a0-23e8-4b2d-897d-30597c87f709",
   "metadata": {},
   "outputs": [
    {
     "name": "stdin",
     "output_type": "stream",
     "text": [
      "Masukkan Bilangan: 23\n"
     ]
    },
    {
     "name": "stdout",
     "output_type": "stream",
     "text": [
      "Itu Bilangan \n",
      "Angka anda aadalah :23\n"
     ]
    }
   ],
   "source": [
    "A = int(input(\"Masukkan Bilangan:\"))\n",
    "if A>0:\n",
    "    print('Itu Bilangan ')\n",
    "else:\n",
    "    print('Bukan Bilangan')\n",
    "\n",
    "print(f\"Angka anda aadalah :{A}\")\n",
    "    "
   ]
  },
  {
   "cell_type": "code",
   "execution_count": 7,
   "id": "ca9f52d7-9bfa-41a0-99d8-6084f40eb9a4",
   "metadata": {},
   "outputs": [
    {
     "name": "stdin",
     "output_type": "stream",
     "text": [
      "Masukkan Bilangan : 23\n"
     ]
    },
    {
     "name": "stdout",
     "output_type": "stream",
     "text": [
      "Itu Bilangan Positif\n"
     ]
    }
   ],
   "source": [
    "#Contoh percabangan majemuk bertingkat\n",
    "a = int(input(\"Masukkan Bilangan :\"))\n",
    "\n",
    "if a>0:\n",
    "    print(\"Itu Bilangan Positif\")\n",
    "else:\n",
    "    if a<0:\n",
    "        print(\"Itu Bilangan Negatif\")\n",
    "    else:\n",
    "        print(\"Itu Bilangan Nol\")"
   ]
  },
  {
   "cell_type": "code",
   "execution_count": 9,
   "id": "09ddf817-9c0e-4495-8130-5439a8668e24",
   "metadata": {},
   "outputs": [
    {
     "name": "stdout",
     "output_type": "stream",
     "text": [
      "5 3 8 15 2 1.6666666666666667 1 2\n"
     ]
    }
   ],
   "source": [
    "a=5\n",
    "b=3\n",
    "c=a+b\n",
    "d=a*b\n",
    "e=a-b\n",
    "f=a/b\n",
    "g=a//b\n",
    "h=a%b\n",
    "print(a,b,c,d,e,f,g,h)"
   ]
  },
  {
   "cell_type": "code",
   "execution_count": 11,
   "id": "4907946c-a069-4681-ba51-7a61f9f67978",
   "metadata": {},
   "outputs": [
    {
     "name": "stdout",
     "output_type": "stream",
     "text": [
      "1\n",
      "0\n",
      "1\n",
      "0\n",
      "1\n"
     ]
    }
   ],
   "source": [
    "print(1%2)\n",
    "print(2%2)\n",
    "print(3%2)\n",
    "print(4%2)\n",
    "print(2314232321%2)\n",
    "#jika apapun angka di modulo %2 hasilnya 1 maka ganjil\n",
    "#jika apapun angka di modulo %2 hasilnya 0 maka genap"
   ]
  },
  {
   "cell_type": "code",
   "execution_count": 19,
   "id": "0061ad7e-c958-402f-823c-e7c2428ad211",
   "metadata": {},
   "outputs": [
    {
     "ename": "SyntaxError",
     "evalue": "'(' was never closed (849719317.py, line 2)",
     "output_type": "error",
     "traceback": [
      "\u001b[1;36m  Cell \u001b[1;32mIn[19], line 2\u001b[1;36m\u001b[0m\n\u001b[1;33m    a = int(input(\"Masukkan angka:\")\u001b[0m\n\u001b[1;37m           ^\u001b[0m\n\u001b[1;31mSyntaxError\u001b[0m\u001b[1;31m:\u001b[0m '(' was never closed\n"
     ]
    }
   ],
   "source": [
    "#contoh percabangan ganjil genap\n",
    "a = int(input(\"Masukkan angka:\")\n",
    "\n",
    "if a%2:\n",
    "    print(\"bilangan genap\")\n",
    "else:\n",
    "    print(\"bilangan ganjil\")\n",
    "\n",
    "\n"
   ]
  },
  {
   "cell_type": "code",
   "execution_count": 33,
   "id": "4400ef31-3c39-4350-99f9-2395f1c5e43b",
   "metadata": {},
   "outputs": [
    {
     "name": "stdin",
     "output_type": "stream",
     "text": [
      "Masukkan angka:  2\n"
     ]
    },
    {
     "name": "stdout",
     "output_type": "stream",
     "text": [
      "Bilangan anda 2 Ganjil Negatif\n",
      "Angka anda adalah : 2\n"
     ]
    }
   ],
   "source": [
    "##pengecekan angka \n",
    "\n",
    "a = int(input(\"Masukkan angka: \"))\n",
    "\n",
    "if a>0:\n",
    "    if a%2:\n",
    "        print(f\"Bilangan anda {a} Genap Positif\")\n",
    "    else:\n",
    "        print(f\"Bilangan anda {a} Ganjil Negatif\")\n",
    "\n",
    "elif a<0:\n",
    "    if a%2 == 0:\n",
    "        print(f\"Bilangan anda {a} Genap Positif\")\n",
    "    \n",
    "    else:\n",
    "        print(f\"Bilangan anda {a} Ganjl Negatif\")\n",
    "else:\n",
    "    print(\"itu Bilangan Nol\")\n",
    "print(f\"Angka anda adalah : {a}\")"
   ]
  },
  {
   "cell_type": "code",
   "execution_count": 39,
   "id": "d18c4065-5316-4477-bf28-55c72cbc12ae",
   "metadata": {},
   "outputs": [
    {
     "name": "stdout",
     "output_type": "stream",
     "text": [
      "1.Surya\n",
      "2.Surya\n",
      "3.Surya\n",
      "4.Surya\n",
      "5.Surya\n",
      "6.Surya\n",
      "7.Surya\n",
      "8.Surya\n",
      "9.Surya\n",
      "10.Surya\n",
      "11.Surya\n",
      "12.Surya\n",
      "13.Surya\n",
      "14.Surya\n",
      "15.Surya\n",
      "16.Surya\n",
      "17.Surya\n",
      "18.Surya\n",
      "19.Surya\n",
      "20.Surya\n",
      "21.Surya\n",
      "22.Surya\n",
      "23.Surya\n",
      "24.Surya\n",
      "25.Surya\n",
      "26.Surya\n",
      "27.Surya\n",
      "28.Surya\n",
      "29.Surya\n",
      "30.Surya\n",
      "31.Surya\n",
      "32.Surya\n",
      "33.Surya\n",
      "34.Surya\n",
      "35.Surya\n",
      "36.Surya\n",
      "37.Surya\n",
      "38.Surya\n",
      "39.Surya\n",
      "40.Surya\n",
      "41.Surya\n",
      "42.Surya\n",
      "43.Surya\n",
      "44.Surya\n",
      "45.Surya\n",
      "46.Surya\n",
      "47.Surya\n",
      "48.Surya\n",
      "49.Surya\n",
      "50.Surya\n",
      "51.Surya\n",
      "52.Surya\n",
      "53.Surya\n",
      "54.Surya\n",
      "55.Surya\n",
      "56.Surya\n",
      "57.Surya\n",
      "58.Surya\n",
      "59.Surya\n",
      "60.Surya\n",
      "61.Surya\n",
      "62.Surya\n",
      "63.Surya\n",
      "64.Surya\n",
      "65.Surya\n",
      "66.Surya\n",
      "67.Surya\n",
      "68.Surya\n",
      "69.Surya\n",
      "70.Surya\n",
      "71.Surya\n",
      "72.Surya\n",
      "73.Surya\n",
      "74.Surya\n",
      "75.Surya\n",
      "76.Surya\n",
      "77.Surya\n",
      "78.Surya\n",
      "79.Surya\n",
      "80.Surya\n",
      "81.Surya\n",
      "82.Surya\n",
      "83.Surya\n",
      "84.Surya\n",
      "85.Surya\n",
      "86.Surya\n",
      "87.Surya\n",
      "88.Surya\n",
      "89.Surya\n",
      "90.Surya\n",
      "91.Surya\n",
      "92.Surya\n",
      "93.Surya\n",
      "94.Surya\n",
      "95.Surya\n",
      "96.Surya\n",
      "97.Surya\n",
      "98.Surya\n",
      "99.Surya\n",
      "100.Surya\n"
     ]
    }
   ],
   "source": [
    "nama = \"Surya\"\n",
    "for i in range(100):\n",
    "    print(f\"{i+1}.{nama}\")\n",
    "    "
   ]
  },
  {
   "cell_type": "code",
   "execution_count": null,
   "id": "34c7697a-551c-4e64-899e-b133ce5bb5d5",
   "metadata": {},
   "outputs": [],
   "source": [
    "while True:\n",
    "    print(i)\n",
    "    i+=1\n",
    "    if i>5:\n",
    "        break"
   ]
  },
  {
   "cell_type": "code",
   "execution_count": null,
   "id": "7fd181cc-10cc-4cf2-b971-cb145f39d61d",
   "metadata": {},
   "outputs": [],
   "source": [
    "i = 1\n",
    "while 1 <= 10:\n",
    "    if i %2 == 0:\n",
    "        i+=1\n",
    "        continue\n",
    "    print (i)\n",
    "    i +=1"
   ]
  },
  {
   "cell_type": "code",
   "execution_count": null,
   "id": "1aa6e2cf-2e30-4d29-a85a-6b70f1ee7efe",
   "metadata": {},
   "outputs": [],
   "source": [
    "#kombinasi perulangan dan percabangan \n",
    "x = int(input(\"Masukkan Bilangan: \"))\n",
    "for x in [1,2,3,4,5,6]:\n",
    "    if x%2 == 0: #jika x modulo 2 sama dengan 0 maka genap\n",
    "        print(f\"bilangan {x} Genap\")\n",
    "    else: #jika x modulo 2 tidak sama dengan 0 maka ganjil\n",
    "        print(f\"bilangan {x} Ganjil\""
   ]
  },
  {
   "cell_type": "code",
   "execution_count": null,
   "id": "234a246c-de86-4d40-873e-1650e75cc7d9",
   "metadata": {},
   "outputs": [],
   "source": [
    "def persegipanjang(panjang, lebar):\n",
    "    luas = panjang * lebar\n",
    "    return luas\n",
    "\n",
    "print (f\"Luas Persegi panjang gengan p=5, l=6 adalah {persegipanjang(5,6)}\")\n",
    "print (f\"Luas Persegi panjang gengan p=10, l=6 adalah {persegipanjang(5,6)}\")"
   ]
  },
  {
   "cell_type": "code",
   "execution_count": null,
   "id": "2a9887e8-7283-409b-8bfa-95333b675b83",
   "metadata": {},
   "outputs": [],
   "source": []
  },
  {
   "cell_type": "code",
   "execution_count": null,
   "id": "5fa4fe96-2913-486e-b4ca-827c8e3011e3",
   "metadata": {},
   "outputs": [],
   "source": []
  },
  {
   "cell_type": "code",
   "execution_count": null,
   "id": "24b87c12-cfdb-4d24-ac7f-28e6f42eb489",
   "metadata": {},
   "outputs": [],
   "source": []
  },
  {
   "cell_type": "code",
   "execution_count": null,
   "id": "bd399eb9-fd74-455c-ab71-525d0233f14d",
   "metadata": {},
   "outputs": [],
   "source": []
  }
 ],
 "metadata": {
  "kernelspec": {
   "display_name": "Python 3 (ipykernel)",
   "language": "python",
   "name": "python3"
  },
  "language_info": {
   "codemirror_mode": {
    "name": "ipython",
    "version": 3
   },
   "file_extension": ".py",
   "mimetype": "text/x-python",
   "name": "python",
   "nbconvert_exporter": "python",
   "pygments_lexer": "ipython3",
   "version": "3.12.4"
  }
 },
 "nbformat": 4,
 "nbformat_minor": 5
}
