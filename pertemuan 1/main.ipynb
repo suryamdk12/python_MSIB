# def persegipanjang(panjang, lebar):
#     luas = panjang * lebar
#     return luas

# print (f"Luas Persegi panjang gengan p=5, l=6 adalah {persegipanjang(5,6)}")
# print (f"Luas Persegi panjang gengan p=10, l=6 adalah {persegipanjang(10,6)}")
# print (f"Luas Persegi panjang gengan p=15, l=10 adalah {persegipanjang(15,10)}")

# #array
# thislist = ["apple", 5, True, -10, 0.345]
# print(thislist)
# print(len(thislist))


# ===============================================================================

#mengenal variabel array/LIST
#LIST : sebuah variabel yang isinya ada beberapa/banyak data

# thislist = ["Apple", "Banana", "Cherry"]
# print(thislist)
# print (len(thislist)) #fungsi len untuk menampilkan jumlah data dalam thislist

# ===============================================================================


# #mengambil list pada array
# thislist = ["apple", "banana", "cerry"]
# #noindex      0          1       2      dibaca dari kiri
# #noindex       -3       -2       -1     dibaca dari kanan

# print(thislist[0])
# print(thislist[1])
# print(thislist[2])
# print(thislist[-1])
# print(thislist[-2])




# ======================================================

# #cara mengakses beberapa isi list dengan menyebut nomor index
# thislist = ["apple", "banana", "cherry", "orange", "mango"]
# print(thislist[2:5])
# print(thislist[ :4])
# print(thislist[2: ])
# print(thislist[-4:1])
# if "banana" in thislist:
#     print("Yes, 'banana' is in the fruits list")
#     print(f"Banana in index {thislist.index('banana')}")



# ======================================================

# mengganti dan mengubah beberapa list
# thislist = ["apple", "banana", "cherry", "orange", "mango"]
# thislist[1] = "blackurrant" #mengganti satu data
# print(thislist)

# thislist = ["apple", "banana", "cherry", "orange", "kiwi", "mango"]
# thislist[1:3] = ["blackcurrant", "watermelon"] #mengganti beberapa data
# print(thislist)

# ======================================================

# menambah isi list dari posisi tengah dan belakang

# thislist = ["apple", "banana", "cherry"]
# print (thislist)

# thislist.insert(0, "jambu dersono") #menyisipkan di awal, index 0
# print(f"Penambahan di Index 0 {thislist}")

# thislist.insert(2, "kelengkeng") #menyisipkan di tengah , index 2
# print(f"Penambahan di Index 2 {thislist}")

# thislist.append("orange") #menyisipkan dibelakang/akhir
# print(f"Penambahan di akhir index {thislist}")


# ======================================================

# menggabungkan 2 buah list 

# languages1 = ["Python", "PHP", "Java",]
# languages2 = ["C", "C++", "C#"]
# #menambahkan list 2 ke list 1 dengan perintah append
# languages1.extend(languages2)
# print(f"Result: {languages1}")
# print(f"Panjang Languages 1 = {len(languages1)}")
# print(f"Panjang Languages 2 : {len(languages2)}")
# print(f"Panjang Languages keseluruhan : {len(languages1+languages2)}")


# ======================================================

# tipe data tuple
# tuple adalah sekumpulan data mirip lis tapi tidak bisa di edit/tambah
# ciri-ciri tuple : diawali tanda kurung biasa (awal dan akhir)
# bandingkan list dibawah

# fruits = ["apple", "banana", "cherry"]
# print(fruits)

# #tuple
# thistuple = ("apple", "banana", "cherry")
# print(thistuple)

# ======================================================

# Tipe data Dictionary
# ciri cirinya : berpasangan, diawali dan diakhiri tanda { }
# dalam sebuah pasangan, sisi kiri dan kanan dipisah tana:

# thisdict = {
#     "brand" : "Ford",
#     "model" : "Mustang",
#     "year"  : 1964
# }

# print(thisdict)


# ======================================================

# pandas adalah library python khusus untuk data analisis
# berikut cara import library pandas sekaligus ikin namaa alias :pd

# import pandas as pd

# #membuat tables pandas baru bertipe dataframe dengan nama : df
# #pd dipakai untuk membuat table pandas baru dari sebuah dictionary
# dict = {"A" : [1,4,7],
#         "B" : [2,5,8],
#         "c" : [3,6,9]
# }
# df = pd.DataFrame(dict) #disini df adalah berupa tabel pandas
# print (df)
# df


# ======================================================

# membuat dataframe
# import pandas as pd
# data = {
#     'Nama' : ['Alice', 'Bob', 'Charlie'],
#     'Usia' : [25, 30, 35],
#     'Kota' : ['New York', 'Los Angeles', 'Chicago']
# }
# df = pd.DataFrame(data)
# print(df)


# ======================================================

# #menakses data 
# usia_baris_pertama = df.loc[0, 'Usia']
# print(f"Usia baris pertama:{usia_baris_pertama}")

# #menambahkan kolom baru
# df['Pekerjaan'] = ['Engineer', "Doctor", "Artist"]

# #mengubah nilai kolom 'kota
# df.loc[df['nama'] == 'Bab', 'Kota'] = 'San Fransisco'

# ======================================================

# # memfilter data frame 
# filtererd_df = df[df['usia'] > 28]
# print('Data setelah filyer : \n, filtered_df')

# #mengurutkan DataFrame
# sorted_df = df.sort_values(by='Usia', ascending=False)
# print(f"data setelah diurutkan:\n {sorted_df}")

# ======================================================

#membuat DataFrame untuk Grouping-SUM yang kategorinya sama
# import pandas as pd
# data = {
#     "Kategori" : ['A', 'B', 'A', 'B'],
#     "Nilai"    : [10, 20, 30, 40]
# }
# df = pd.DataFrame(data)
# print(df)

# #Mengelompokkan dan menghitung nilai
# grouped_df = df.groupby("Kategori").sum()
# print(f"Total Nilai per kategori: \n{grouped_df}")

# ======================================================

# import pandas as pd

# #membuat DataFrame pertama 
# df1 = pd.DataFrame({
#     "ID" : [1, 2],
#     "Nama" : ["Alicia", "Bob"]
# })

# #membuat DataFrame kedua 
# df2 = pd.DataFrame({
#     "ID" : [1,2],
#     "Usia" : [25, 30]
# })

# #menggabungkan DataFrame
# marged_df = pd.merge(df1, df2, on="ID")
# print(f"DataFrame yang digabungkan: \n{marged_df}")

# ======================================================

#Membuat DataFrame dengan duplikat dan nilai yang hilang
# import pandas as pd

# df = pd.DataFrame({
#     "Nama" : ["Alicia", "Bob", "Alicia", "Charlie"],
#     "Usia" : [25, 30, 25, None]
# })
# #Menghapus baris yang duplikat
# df = df.drop_duplicates()
# #Mengisi nilai yang hilang dengan nilai rata-rata
# df["Usia"] = df["Usia"].fillna(df["Usia"].mean())
# print(f"DataFrame setelah penghapusan duplikat dan mengisi nilai yang hilang: \n{df}")

# ======================================================

#Membuat Data Frame
import pandas as pd

df = pd.DataFrame({
    "Kode" : ["A001", "A002", "A003"],
    "Produk" : ["Apel", "Pisang", "Jeruk"],
    "Harga" : [100, 200, 150]
})

#Mengatur kolom "Kode" sebagai index
df.set_index("Kode", inplace=True)
#Menambahkan kolom Diskon
df["Diskon"] = df["Harga"]*0.10
#Menampilkan data untuk "Kode" A002
print(f"Data untuk produk dengan Kode A002: \n{df.loc["A002"]}")
df 