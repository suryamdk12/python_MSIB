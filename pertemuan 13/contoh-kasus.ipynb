{
 "cells": [
  {
   "cell_type": "code",
   "execution_count": 1,
   "metadata": {},
   "outputs": [
    {
     "ename": "ModuleNotFoundError",
     "evalue": "No module named 'tensorflow.keras.preprocessing.sequences'",
     "output_type": "error",
     "traceback": [
      "\u001b[1;31m---------------------------------------------------------------------------\u001b[0m",
      "\u001b[1;31mModuleNotFoundError\u001b[0m                       Traceback (most recent call last)",
      "Cell \u001b[1;32mIn[1], line 5\u001b[0m\n\u001b[0;32m      3\u001b[0m \u001b[38;5;28;01mimport\u001b[39;00m \u001b[38;5;21;01mtensorflow\u001b[39;00m \u001b[38;5;28;01mas\u001b[39;00m \u001b[38;5;21;01mtf\u001b[39;00m\n\u001b[0;32m      4\u001b[0m \u001b[38;5;28;01mfrom\u001b[39;00m \u001b[38;5;21;01mtensorflow\u001b[39;00m\u001b[38;5;21;01m.\u001b[39;00m\u001b[38;5;21;01mkeras\u001b[39;00m\u001b[38;5;21;01m.\u001b[39;00m\u001b[38;5;21;01mpreprocessing\u001b[39;00m\u001b[38;5;21;01m.\u001b[39;00m\u001b[38;5;21;01mtext\u001b[39;00m \u001b[38;5;28;01mimport\u001b[39;00m Tokenizer\n\u001b[1;32m----> 5\u001b[0m \u001b[38;5;28;01mfrom\u001b[39;00m \u001b[38;5;21;01mtensorflow\u001b[39;00m\u001b[38;5;21;01m.\u001b[39;00m\u001b[38;5;21;01mkeras\u001b[39;00m\u001b[38;5;21;01m.\u001b[39;00m\u001b[38;5;21;01mpreprocessing\u001b[39;00m\u001b[38;5;21;01m.\u001b[39;00m\u001b[38;5;21;01msequences\u001b[39;00m \u001b[38;5;28;01mimport\u001b[39;00m pad_sequences\n\u001b[0;32m      6\u001b[0m \u001b[38;5;28;01mfrom\u001b[39;00m \u001b[38;5;21;01msklearn\u001b[39;00m\u001b[38;5;21;01m.\u001b[39;00m\u001b[38;5;21;01mmodel_model_selector\u001b[39;00m \u001b[38;5;28;01mimport\u001b[39;00m train_test_split\n\u001b[0;32m      7\u001b[0m \u001b[38;5;28;01mfrom\u001b[39;00m \u001b[38;5;21;01msklearn\u001b[39;00m\u001b[38;5;21;01m.\u001b[39;00m\u001b[38;5;21;01mpreprocessor\u001b[39;00m \u001b[38;5;28;01mimport\u001b[39;00m LabelEncoder\n",
      "\u001b[1;31mModuleNotFoundError\u001b[0m: No module named 'tensorflow.keras.preprocessing.sequences'"
     ]
    }
   ],
   "source": [
    "import pandas as pd\n",
    "import numpy as np\n",
    "import tensorflow as tf\n",
    "from tensorflow.keras.preprocessing.text import Tokenizer\n",
    "from tensorflow.keras.preprocessing.sequences import pad_sequences\n",
    "from sklearn.model_model_selector import train_test_split\n",
    "from sklearn.preprocessor import LabelEncoder\n",
    "import re\n",
    "# 1. membaca dataset\n",
    "data = pd.read_csv(\"reviews.csv\") # ganti dengan lokasi dataset anda\n",
    "print (\"Sample data sebelum preprocessing:\")\n",
    "print(data.head())\n",
    "# 2. Preprocessing\n",
    "def preprocessing_text(text):\n",
    "    text = re.sub(r'[^a-zA-Z\\s]', '', text) #menghapus angka dan tanda baca\n",
    "    text = text.lower() # mengubah senua huruf menjadi huruf kecil\n",
    "    return text\n",
    "#preprocessing\n",
    "data['cleaned_riview'] = data['Tweet'].apply(preprocessing_text)\n",
    "# menampilkan sample setelah preprocessing\n",
    "print(\"\\nSample data setelah preprocessing:\")\n",
    "print(data['cleaned_review'].head())\n",
    "# mengonversi label menjadi numerik\n",
    "le = LabelEncode()\n",
    "data['label'] = le.fit_transform(data['Label'])\n",
    "print(data['label'].head())"
   ]
  },
  {
   "cell_type": "code",
   "execution_count": null,
   "metadata": {},
   "outputs": [],
   "source": [
    "#4 memisahkan data latih dan data uji\n",
    "X_train, X_test, y_train, y_test = train_test_split(data['cleaned_review'], data['label'], test_size=0.2, random_state=42)\n",
    "# tokenisasi teks\n",
    "tokenizer = Tokenizer(num_wordsa=5000, oov_token=\"<OOV>\")\n",
    "tokenizer.fit_on_texts(X_train)\n",
    "X_train_seq = tokenizer.texts_to_sequences(X_train)\n",
    "X_test_seq = tokenizer.text_to_sequences(X_test)\n",
    "#padding sequences\n",
    "max_lengght = 100\n",
    "X_train_padded = pad_sequences(X_train_seq, maxlen=max_length, padding='post', truncating='post')\n",
    "X_test_padded = pad_sequences(X_test_seq, maxlen=max_length, padding='post', truncating='post')"
   ]
  },
  {
   "cell_type": "code",
   "execution_count": null,
   "metadata": {},
   "outputs": [],
   "source": [
    "# 5 membangun model LSTM\n",
    "model = tf.keras.Sequential([\n",
    "    tf.keras.layers.Embedding(input_dim=5000, output_dim=65, input_length=max_length),\n",
    "    tf.keras.layers.LSTM(64, return_sequences=True),\n",
    "    tf.keras.layers.LSTM(32),\n",
    "    tf.keras.layers.Dense(32, activation='relu'),\n",
    "    tf.keras.layers.Dense(3, activation='softmax') # menggunakan 3 kelas\n",
    "])\n",
    "model.compile(loss='sparse_categorical_crossentropy', optimizer='adam', metrics=['accuracy']) #menggunakan \n",
    "model.summary()\n",
    "#6. melatih model\n",
    "model.fit(X_train_padded, y_train, epochs=5, validation_data=(X_test_padded, y_test), batch_size=32)"
   ]
  },
  {
   "cell_type": "code",
   "execution_count": null,
   "metadata": {},
   "outputs": [],
   "source": [
    "# 7. Uji Sentimen dengan Teks Baru\n",
    "new_text = [\"Film ini sangat bagus, saya menyukainya\"]\n",
    "new_text_cleaned = [preprocess_text(text) for text in new_text]\n",
    "new_text_seq = tokenizer.texts_to_sequences(new_text_cleaned)\n",
    "new_text_padded = pad_sequences(new_text_seq, maxlen=max_length, padding='post', truncating='post')\n",
    "\n",
    "# Prediksi\n",
    "prediction = model.predict(new_text_padded)\n",
    "predicted_label = np.argmax(prediction, axis=1)  # Mengambil kelas dengan probabilitas tertinggi\n",
    "\n",
    "# Mengambil label dari encoded predictions\n",
    "sentiment_map = {0: 'Negatif', 1: 'Netral', 2: 'Positif'}\n",
    "predicted_sentiment = sentiment_map[predicted_label[0]]\n",
    "\n",
    "print(\"\\nHasil Uji Sentimen:\")\n",
    "print(f\"Teks: {new_text[0]}\")\n",
    "print(f\"Sentimen: {predicted_sentiment}\")"
   ]
  }
 ],
 "metadata": {
  "kernelspec": {
   "display_name": "Python 3",
   "language": "python",
   "name": "python3"
  },
  "language_info": {
   "codemirror_mode": {
    "name": "ipython",
    "version": 3
   },
   "file_extension": ".py",
   "mimetype": "text/x-python",
   "name": "python",
   "nbconvert_exporter": "python",
   "pygments_lexer": "ipython3",
   "version": "3.12.6"
  }
 },
 "nbformat": 4,
 "nbformat_minor": 2
}
