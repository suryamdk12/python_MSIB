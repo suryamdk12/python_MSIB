{
 "cells": [
  {
   "cell_type": "markdown",
   "metadata": {},
   "source": [
    "Latihan Peramalam Menggunakan Data Cuaca dari openWeather API\n",
    "Pendeklarasian\n",
    "# pip install xgboost"
   ]
  },
  {
   "cell_type": "code",
   "execution_count": 1,
   "metadata": {},
   "outputs": [],
   "source": [
    "import requests\n",
    "import pandas as pd\n",
    "import numpy as np\n",
    "import matplotlib.pyplot as plt\n",
    "from sklearn.model_selection import train_test_split\n",
    "from sklearn.metrics import mean_squared_error\n",
    "import xgboost as xgb"
   ]
  },
  {
   "cell_type": "code",
   "execution_count": 2,
   "metadata": {},
   "outputs": [],
   "source": [
    "# fungsi untuk mengambil data cuaca dari open weather API\n",
    "def get_weather_data(api_key, city):\n",
    "    url = \"https://api.openweathermap.org/data/2.5/forecast\"\n",
    "    params = {\"q\": city,\"appid\": api_key,\"units\": \"metric\"}\n",
    "    response = requests.get(url, params=params)\n",
    "    if response.status_code == 200:\n",
    "        return response.json()\n",
    "    else:\n",
    "        raise Exception(f\"Error fetching data: {response.status_code}\")"
   ]
  },
  {
   "cell_type": "code",
   "execution_count": 5,
   "metadata": {},
   "outputs": [],
   "source": [
    "# fungsi untuk mengubah ke data cuaca ke dataframe\n",
    "def parse_weather_data(weather_data):\n",
    "    df = pd.json_normalize(weather_data, record_path=['list'])\n",
    "    df['dt'] = pd.to_datetime(df['dt'], unit='s')\n",
    "    df.set_index('dt', inplace=True)\n",
    "    df = df[['main.temp_max']] # ambil suhu maksimum\n",
    "    df.columns = ['Temp_Max'] #ubah nama kolom\n",
    "    return df\n",
    "# menggunakan API key dan nama kota\n",
    "API_KEY = '68433059aae9bc07f30ef23c973276a5' #ganti dengan API key anda\n",
    "CITY = 'Jakarta'"
   ]
  },
  {
   "cell_type": "markdown",
   "metadata": {},
   "source": [
    "mengambil data cuaca lalu memparsing ke dataframe"
   ]
  },
  {
   "cell_type": "code",
   "execution_count": 6,
   "metadata": {},
   "outputs": [],
   "source": [
    "#Ambil data cuaca\n",
    "weather_data = get_weather_data(API_KEY, CITY)\n",
    "#parse data ke dataframe\n",
    "data = parse_weather_data(weather_data)\n",
    "#siapkan data untuk model\n",
    "data['Hour'] = data.index.hour\n",
    "data['Day'] = data.index.dayofweek\n",
    "data['Month'] = data.index.month\n",
    "#memilih fitur dan target\n",
    "X = data[['Hour', 'Day', 'Month']]\n",
    "y = data['Temp_Max']\n"
   ]
  },
  {
   "cell_type": "code",
   "execution_count": 7,
   "metadata": {},
   "outputs": [],
   "source": [
    "# membagi dataset\n",
    "X_train, X_test, y_train, y_test = train_test_split(X, y, test_size=0.2, random_state=42)\n",
    "#membuat DMatrix untuk XGBoost\n",
    "dtrain = xgb.DMatrix(X_train, label=y_train)\n",
    "dtest = xgb.DMatrix(X_test, label=y_test)\n",
    "#set parameter untuk XGBoost\n",
    "params = {'objective': 'reg.squarederror', 'colsample_bytree': 0.3, 'learning_rate': 0.1, 'max_depth': 5, 'alpha': 10}"
   ]
  }
 ],
 "metadata": {
  "kernelspec": {
   "display_name": "Python 3",
   "language": "python",
   "name": "python3"
  },
  "language_info": {
   "codemirror_mode": {
    "name": "ipython",
    "version": 3
   },
   "file_extension": ".py",
   "mimetype": "text/x-python",
   "name": "python",
   "nbconvert_exporter": "python",
   "pygments_lexer": "ipython3",
   "version": "3.12.6"
  }
 },
 "nbformat": 4,
 "nbformat_minor": 2
}
