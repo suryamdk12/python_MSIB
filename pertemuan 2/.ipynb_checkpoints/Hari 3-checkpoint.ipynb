{
 "cells": [
  {
   "cell_type": "code",
   "execution_count": null,
   "metadata": {},
   "outputs": [],
   "source": [
    "import numpy as np"
   ]
  },
  {
   "cell_type": "code",
   "execution_count": 27,
   "metadata": {},
   "outputs": [
    {
     "name": "stdout",
     "output_type": "stream",
     "text": [
      "1. Array Sederhana 1-10\n",
      "[ 1  2  3  4  5  6  7  8  9 10]\n",
      "2. Array 1-5 dan dikalikan setiap elemen dengan 3\n",
      "[ 3  6  9 12 15]\n",
      "3. Buat matriks identitas berukuran 3x3\n",
      "[[1. 0. 0.]\n",
      " [0. 1. 0.]\n",
      " [0. 0. 1.]]\n",
      "4. Buat array acak berukuran 5x5\n",
      "Nilai Maksimum: 0.8776394123875126\n",
      "5. Buat Array ID dengan 9 elemen\n",
      "Array 1D yang sudah diubah ke 2D\n",
      "Berikan 2 matriks 3x3\n",
      "Hasil dari Hitungan Perkalian DOT PRODUCTION [[ 84  90  96]\n",
      " [201 216 231]\n",
      " [318 342 366]]\n",
      "7. Array ID dari 1 hingga 10\n",
      "Elemen yang diambil pada indeks 3 dampai 7 : [4 5 6 7 8]\n",
      "Gabungkan dua aray a = [1,2,3] dan b = [4,5,6] menjadi 1 array\n",
      "Data yang digabungkan antara a,b : [1 2 3 4 5 6]\n",
      "Buatlah array berisi angka 1 hingga 4\n",
      "[11 12 13 14]\n",
      "10. Buat arra acak berisi 10 elemen\n",
      "[0.03478279 0.12409736 0.23214739 0.31995562 0.42206304 0.50091441\n",
      " 0.58757971 0.68710745 0.90903852 0.9178689 ]\n"
     ]
    }
   ],
   "source": [
    "import numpy as np\n",
    "\n",
    "print(\"1. Array Sederhana 1-10\")\n",
    "array_sederhana = np.arange(1,11)\n",
    "print(array_sederhana)\n",
    "\n",
    "\n",
    "print(\"2. Array 1-5 dan dikalikan setiap elemen dengan 3\")\n",
    "#array 1 - 5 \n",
    "arr = np.arange(1,6)\n",
    "\n",
    "#dikalikan setiap elemen dengan 3\n",
    "hasil = arr * 3\n",
    "print(hasil)\n",
    "\n",
    "print(\"3. Buat matriks identitas berukuran 3x3\")\n",
    "matriks = np.eye(3)\n",
    "print(matriks)\n",
    "\n",
    "print(\"4. Buat array acak berukuran 5x5\")\n",
    "arr_5x5 = np.random.rand(5,5)\n",
    "\n",
    "#cari nilai maksimum dalam array tersebut \n",
    "nilai_max = np.max(arr_5x5)\n",
    "print(f\"Nilai Maksimum: {nilai_max}\")\n",
    "\n",
    "print(\"5. Buat Array ID dengan 9 elemen\")\n",
    "array_1d = np.arange(9)\n",
    "\n",
    "#ubah menjadi array 2D dengan ukuran 3x3\n",
    "array_2d = array_1d.reshape(3,3)\n",
    "print(\"Array 1D yang sudah diubah ke 2D\")\n",
    "\n",
    "print(\"Berikan 2 matriks 3x3\")\n",
    "matriks_a = np.array([[1, 2, 3], [4, 5, 6], [7,8,9]])\n",
    "matriks_b = np.array([[10, 11, 12], [13, 14, 15], [16, 17, 18]])\n",
    "\n",
    "#hitung hasil perkaliat dot product kedua matriks tersebut\n",
    "hasil_dot = np.dot(matriks_a, matriks_b)\n",
    "print(f\"Hasil dari Hitungan Perkalian DOT PRODUCTION {hasil_dot}\")\n",
    "\n",
    "print(\"7. Array ID dari 1 hingga 10\")\n",
    "array_1d = np.arange(1,11)\n",
    "\n",
    "#ambil elemen pada indeks 3 sampai 7\n",
    "elemen_3_7 = array_1d[3:8]\n",
    "print(f\"Elemen yang diambil pada indeks 3 dampai 7 : {elemen_3_7}\")\n",
    "\n",
    "print(\"Gabungkan dua aray a = [1,2,3] dan b = [4,5,6] menjadi 1 array\")\n",
    "a = np.array([1,2,3])\n",
    "b = np.array([4,5,6])\n",
    "\n",
    "#concatenate arrays \n",
    "concatenated_array = np.concatenate((a, b))\n",
    "print(f\"Data yang digabungkan antara a,b : {concatenated_array}\")\n",
    "\n",
    "print(\"Buatlah array berisi angka 1 hingga 4\")\n",
    "ar = np.arange(1,5)\n",
    "\n",
    "#tambahkan 10 ke setiap elemen array tersebut dengan menggunakan broadcasting\n",
    "hasil_broadcasting = ar + 10\n",
    "print(hasil_broadcasting)\n",
    "\n",
    "print(\"10. Buat arra acak berisi 10 elemen\")\n",
    "array_acak = np.random.rand(10)\n",
    "\n",
    "#urutkan array tersebut\n",
    "array_urut = np.sort(array_acak)\n",
    "print(array_urut)\n"
   ]
  },
  {
   "cell_type": "code",
   "execution_count": 7,
   "metadata": {},
   "outputs": [
    {
     "name": "stdout",
     "output_type": "stream",
     "text": [
      "Requirement already satisfied: numpy in c:\\users\\lenovo\\anaconda3\\lib\\site-packages (1.26.4)\n",
      "Note: you may need to restart the kernel to use updated packages.\n"
     ]
    }
   ],
   "source": []
  },
  {
   "cell_type": "code",
   "execution_count": null,
   "metadata": {},
   "outputs": [],
   "source": []
  }
 ],
 "metadata": {
  "kernelspec": {
   "display_name": "Python 3 (ipykernel)",
   "language": "python",
   "name": "python3"
  },
  "language_info": {
   "codemirror_mode": {
    "name": "ipython",
    "version": 3
   },
   "file_extension": ".py",
   "mimetype": "text/x-python",
   "name": "python",
   "nbconvert_exporter": "python",
   "pygments_lexer": "ipython3",
   "version": "3.12.4"
  }
 },
 "nbformat": 4,
 "nbformat_minor": 4
}
