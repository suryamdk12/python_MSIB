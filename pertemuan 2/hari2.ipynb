{
 "cells": [
  {
   "cell_type": "code",
   "execution_count": null,
   "metadata": {},
   "outputs": [],
   "source": [
    "import matplotlib as plt            #membuat grafik\n",
    "import matplotlib.ticker as ticker     # membuat grafik\n",
    "import pandas as pd                     # memanggil library andas dan memberikan nama alias pd\n",
    "import seaborn as sns\n",
    "\n",
    "#Membuat pandas dari data excel\n",
    "df = pd.read_excel('Hari 2/Sample_Superstore.xlsx') #Read the dataset\n",
    "print(df)\n",
    "\n",
    "print(\"================================\")\n",
    "\n",
    "#===========================================\n",
    "\n",
    "print(\"Bulanan\")\n",
    "newdf = df.copy()\n",
    "#step 1\n",
    "newdf.set_index(\"Order date \", inplace=True)\n",
    "#step 2\n",
    "monthly_sales = newdf[\"Sales\"].resample(\"ME\").sum()\n",
    "\n",
    "#step 3\n",
    "plt.figure(figsize=(12, 6))\n",
    "sns.lineplot(x=montly_sales.index, y=monthly_sales.value)\n",
    "plt.title(\"Monthly Sales Trend - Saple Superstore\")\n",
    "plt.xlabel(\"Date\")\n",
    "plt.ylabel(\"Sales\")\n",
    "plt.grid(True)\n",
    "plt.xticks(rotation=45)\n",
    "plt.show()\n",
    "\n",
    "#===========================================\n",
    "\n",
    "print(\"tahunan\")\n",
    "\n",
    "#step 4\n",
    "yearly_sales = df.resample(\"Y\").sum()[\"Sale\"]\n",
    "plt.figure(figsize=(10, 5))\n",
    "sns.barplot(x=yearly_sales.index.year, y=yearly_sales.values, palette='viridis')\n",
    "plt.title(\"Year Sales Trend\")\n",
    "plt.xlabel(\"Year\")\n",
    "plt.ylabel(\"Sales\")\n",
    "plt.show()"
   ]
  }
 ],
 "metadata": {
  "kernelspec": {
   "display_name": "Python 3",
   "language": "python",
   "name": "python3"
  },
  "language_info": {
   "name": "python",
   "version": "3.12.6"
  }
 },
 "nbformat": 4,
 "nbformat_minor": 2
}
